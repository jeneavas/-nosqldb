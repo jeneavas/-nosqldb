{
 "cells": [
  {
   "cell_type": "markdown",
   "id": "0c1ba89b",
   "metadata": {},
   "source": [
    "\"Требования к нереляционным БД\n",
    "\n",
    "2 - нереляционная БД\n",
    "\n",
    "2 - красивая структура БД\n",
    "\n",
    "2 - интерфейс позволяет класть, доставать, удалять данные (проводить операции CRUD - Create, Read, Update, Delete)\n",
    "\n",
    "2 - два действия помимо CRUD (сортировка, группировка, агрегация, ...)\n",
    "\n",
    "2 - Neo4j - нахождение путей не только к соседним вершинам, операции с графами\"\n"
   ]
  },
  {
   "cell_type": "code",
   "execution_count": 1,
   "id": "4b4c416d",
   "metadata": {},
   "outputs": [],
   "source": [
    "from pprint import pprint\n",
    "from neo4j import GraphDatabase, basic_auth"
   ]
  },
  {
   "cell_type": "code",
   "execution_count": 2,
   "id": "39ff49fc",
   "metadata": {},
   "outputs": [],
   "source": [
    "driver = GraphDatabase.driver(\n",
    "    \"neo4j+s://2bb967b7.databases.neo4j.io:7687\", \n",
    "    auth=basic_auth(\"neo4j\", \"R4t4Mta4Z-qidT1aY6UNWUH701RJD1oAFfubc-gWJG8\"))\n",
    "session = driver.session()"
   ]
  },
  {
   "cell_type": "markdown",
   "id": "a1bd97e8",
   "metadata": {},
   "source": [
    "## 1.1 Create, Read"
   ]
  },
  {
   "cell_type": "code",
   "execution_count": 8,
   "id": "ace26590",
   "metadata": {},
   "outputs": [
    {
     "name": "stdout",
     "output_type": "stream",
     "text": [
      "Введите ваше имя: Юлия Пыжак\n",
      "Сколько вам лет? 22\n",
      "Где вы живете? В формате город, страна: Москва, Россия\n",
      "Какие книги вам интересны? Политика, Детективы\n"
     ]
    }
   ],
   "source": [
    "name = str(input('Введите ваше имя: '))\n",
    "age = str(input('Сколько вам лет? '))\n",
    "city, country = str(input('Где вы живете? В формате город, страна: ')).split(', ')\n",
    "interests = str(input('Какие книги вам интересны? ')).split(', ')"
   ]
  },
  {
   "cell_type": "code",
   "execution_count": 10,
   "id": "c063f82d",
   "metadata": {},
   "outputs": [],
   "source": [
    "def add_new_person(name, age, city, country, interests):\n",
    "    find_city = \"\"\"MERGE (c:Country {name:'%s'})\"\"\" % country # merge - match if exists, create if doesn't\n",
    "    session.run(find_city)\n",
    "    add_person = \"\"\"CREATE (p:Person {name:'%s', age:'%s'})\"\"\" % (name, age)\n",
    "    session.run(add_person)\n",
    "    \n",
    "    add_edge = \"\"\"MATCH (a:Person {name:'%s'}),\n",
    "                (c:Country {name:'%s'})\n",
    "                CREATE (a)-[:LIVES_IN {city:'%s'}]->(c)\"\"\" % (name, country, city)\n",
    "    session.run(add_edge)\n",
    "    \n",
    "    for interest in interests:\n",
    "        add_interest = \"\"\"MERGE (i:Interest {name:'%s'})\"\"\" % interest\n",
    "        session.run(add_interest)\n",
    "        edge_interest = \"\"\"MATCH (p:Person {name:'%s'}),\n",
    "                            (i:Interest {name:'%s'}) \n",
    "                            CREATE (p)-[:INTERESTED_IN]->(i)\"\"\" % (name, interest)\n",
    "        session.run(edge_interest)\n",
    "        \n",
    "    get_inserted_data = \"\"\"MATCH (p:Person {name:'%s'})-[r:LIVES_IN]-(a) RETURN p.name, p.age, r.city, a.name\"\"\" % name\n",
    "    r = session.run(get_inserted_data)\n",
    "    result1 = [record.data() for record in r]\n",
    "    result1 = result1[0]\n",
    "    \n",
    "    get_inserted_data = \"\"\"MATCH (p:Person {name:'%s'})-[r:INTERESTED_IN]-(a) RETURN a.name\"\"\" % name\n",
    "    r = session.run(get_inserted_data)\n",
    "    result2 = [record.data() for record in r]\n",
    "    interests1 = [interest['a.name'].lower() for interest in result2]\n",
    "    \n",
    "    print('Запись сделана. \\nИмя: {} \\nВозраст: {} \\nГород: {}\\nСтрана: {}\\nИнтересы: {}'.format(result1['p.name'],\n",
    "                                                                               result1['p.age'],\n",
    "                                                                               result1['r.city'],\n",
    "                                                                               result1['a.name'],\n",
    "                                                                               ', '.join(interests1)))"
   ]
  },
  {
   "cell_type": "code",
   "execution_count": 11,
   "id": "9b275f05",
   "metadata": {},
   "outputs": [
    {
     "name": "stdout",
     "output_type": "stream",
     "text": [
      "Запись сделана. \n",
      "Имя: Юлия Пыжак \n",
      "Возраст: 22 \n",
      "Город: Москва\n",
      "Страна: Россия\n",
      "Интересы: детективы, политика\n"
     ]
    }
   ],
   "source": [
    "add_new_person(name, age, city, country, interests)"
   ]
  },
  {
   "cell_type": "markdown",
   "id": "fe3d6b3c",
   "metadata": {},
   "source": [
    "## 1.2 Update \n",
    "\n",
    "поменяем город"
   ]
  },
  {
   "cell_type": "code",
   "execution_count": 12,
   "id": "2f640b9b",
   "metadata": {},
   "outputs": [],
   "source": [
    "city = 'Рязань'"
   ]
  },
  {
   "cell_type": "code",
   "execution_count": 13,
   "id": "79379632",
   "metadata": {},
   "outputs": [],
   "source": [
    "update_city = \"\"\"MATCH (:Person {name: '%s'})-[r:LIVES_IN]-(:Country {name: '%s'})\n",
    "                    SET r.city = '%s'\n",
    "                    RETURN r.city\"\"\" % (name, country, city)\n",
    "\n",
    "result = session.run(update_city)"
   ]
  },
  {
   "cell_type": "code",
   "execution_count": 14,
   "id": "790b3010",
   "metadata": {},
   "outputs": [
    {
     "name": "stdout",
     "output_type": "stream",
     "text": [
      "Рязань\n"
     ]
    }
   ],
   "source": [
    "for res in result:\n",
    "    print(res.data()['r.city'])"
   ]
  },
  {
   "cell_type": "markdown",
   "id": "f045973e",
   "metadata": {},
   "source": [
    "# 1.3 Delete"
   ]
  },
  {
   "cell_type": "code",
   "execution_count": 15,
   "id": "a8dcf0a2",
   "metadata": {},
   "outputs": [],
   "source": [
    "interest_to_del = 'Политика'"
   ]
  },
  {
   "cell_type": "code",
   "execution_count": 16,
   "id": "48e957e5",
   "metadata": {},
   "outputs": [
    {
     "data": {
      "text/plain": [
       "<neo4j.work.result.Result at 0x210eeed3ac0>"
      ]
     },
     "execution_count": 16,
     "metadata": {},
     "output_type": "execute_result"
    }
   ],
   "source": [
    "delete_interest = \"\"\"MATCH (:Person {name: '%s'})-[r:INTERESTED_IN]->(:Interest {name: '%s'})\n",
    "                    DELETE r\"\"\" % (name, interest_to_del)\n",
    "session.run(delete_interest)"
   ]
  },
  {
   "cell_type": "code",
   "execution_count": 17,
   "id": "d53f7ac0",
   "metadata": {},
   "outputs": [],
   "source": [
    "q = \"\"\"MATCH (:Person {name: '%s'})-[r:INTERESTED_IN]->(i) \n",
    "        RETURN i.name\"\"\" % name\n",
    "new_interests = session.run(q)"
   ]
  },
  {
   "cell_type": "code",
   "execution_count": 18,
   "id": "26ae5dfd",
   "metadata": {},
   "outputs": [
    {
     "name": "stdout",
     "output_type": "stream",
     "text": [
      "Детективы\n"
     ]
    }
   ],
   "source": [
    "for i in new_interests:\n",
    "    print(i.data()['i.name'])"
   ]
  },
  {
   "cell_type": "markdown",
   "id": "6068c820",
   "metadata": {},
   "source": [
    "## 2. Аггрегации\n",
    "\n",
    "Cортировка - кто отправил/получил больше всех книжек, когда отправлена первая/последняя книжка\n",
    "\n",
    "аггрегация - среднее количесвто отправленных книжек, средний возраст\n",
    "\n",
    "группировка - среднее количесвто населения по странам, самый поппулярный интерес по странам"
   ]
  },
  {
   "cell_type": "code",
   "execution_count": 19,
   "id": "c88fbbd7",
   "metadata": {},
   "outputs": [],
   "source": [
    "# пользователь, который отправил больше всех книжек\n",
    "q = \"\"\"MATCH (p:Person)-[r:SENT_BOOK_TO]->(:Person) \n",
    "        RETURN p.name, count(r) AS cnt\n",
    "        ORDER BY cnt DESC\n",
    "        LIMIT 1\"\"\"\n",
    "result = session.run(q)"
   ]
  },
  {
   "cell_type": "code",
   "execution_count": 20,
   "id": "c0576c83",
   "metadata": {},
   "outputs": [
    {
     "name": "stdout",
     "output_type": "stream",
     "text": [
      "Моисеева Елена, 4\n"
     ]
    }
   ],
   "source": [
    "for res in result:\n",
    "    print(res.data()['p.name'], res.data()['cnt'], sep=', ')"
   ]
  },
  {
   "cell_type": "code",
   "execution_count": 3,
   "id": "ce22df4f",
   "metadata": {},
   "outputs": [],
   "source": [
    "q = \"\"\"MATCH (p:Person)\n",
    "        RETURN avg(tointeger(p.age)) as avg_age\"\"\"\n",
    "result = session.run(q)"
   ]
  },
  {
   "cell_type": "code",
   "execution_count": 5,
   "id": "152e1675",
   "metadata": {},
   "outputs": [
    {
     "name": "stdout",
     "output_type": "stream",
     "text": [
      "[{'avg_age': 50.196078431372534}]\n"
     ]
    }
   ],
   "source": [
    "print(result.data())"
   ]
  },
  {
   "cell_type": "code",
   "execution_count": 18,
   "id": "11bba48b",
   "metadata": {},
   "outputs": [],
   "source": [
    "# когда отправлена первая книжка\n",
    "q = \"\"\"MATCH (p1:Person)-[r:SENT_BOOK_TO]->(p2:Person),\n",
    "        (p1)-[t1:LIVES_IN]->(c1:Country),\n",
    "        (p2)-[t2:LIVES_IN]->(c2:Country)\n",
    "        RETURN p1.name AS from, p2.name AS to, date(r.date) AS date,\n",
    "                r.book_name AS book, t1.city AS from_city,\n",
    "                c1.name as from_country, t2.city AS to_city,\n",
    "                c2.name as to_country\n",
    "        ORDER BY r.date\n",
    "        LIMIT 1\"\"\"\n",
    "result = session.run(q)"
   ]
  },
  {
   "cell_type": "code",
   "execution_count": 20,
   "id": "85a97a57",
   "metadata": {},
   "outputs": [
    {
     "name": "stdout",
     "output_type": "stream",
     "text": [
      "{'book': 'Ночь в Лиссабоне',\n",
      " 'date': neo4j.time.Date(2021, 12, 11),\n",
      " 'from_city': 'Вердан',\n",
      " 'from_country': 'Канада',\n",
      " 'p1.name': 'Смирнов Даниил',\n",
      " 'p2.name': 'Воробьева Арина',\n",
      " 'to': 'Темпл',\n",
      " 'to_country': 'США'}\n"
     ]
    }
   ],
   "source": [
    "for res in result:\n",
    "    pprint(res.data())"
   ]
  },
  {
   "cell_type": "code",
   "execution_count": 196,
   "id": "c660d29b",
   "metadata": {},
   "outputs": [],
   "source": [
    "# самый популярный интерес в России\n",
    "popular_interest = \"\"\"MATCH (i:Interest)<-[r:INTERESTED_IN]-(p:Person)-[r1:LIVES_IN]->(c) \n",
    "                        WITH c.name as city, i.name as interest, count(i.name) as cnt\n",
    "                        WHERE c.name='Россия' \n",
    "                        RETURN interest, cnt \n",
    "                        ORDER BY cnt DESC\"\"\"\n",
    "result = session.run(popular_interest)"
   ]
  },
  {
   "cell_type": "code",
   "execution_count": 197,
   "id": "42dffea8",
   "metadata": {},
   "outputs": [
    {
     "name": "stdout",
     "output_type": "stream",
     "text": [
      "Зарубежная литература, 2\n",
      "Детективы, 1\n",
      "Романы, 1\n"
     ]
    }
   ],
   "source": [
    "for res in result:\n",
    "    print(res.data()['interest'], res.data()['cnt'], sep=', ')"
   ]
  },
  {
   "cell_type": "code",
   "execution_count": 202,
   "id": "27d9e041",
   "metadata": {},
   "outputs": [],
   "source": [
    "# какиех авторов чаще всего отправляют\n",
    "popular_authors_sent = \"\"\"MATCH (:Person)-[r:SENT_BOOK_TO]-(:Person)\n",
    "                        RETURN r.author as author, collect(DISTINCT r.genre) AS genre, count(r.author) as cnt\n",
    "                        ORDER BY cnt DESC\n",
    "                        LIMIT 5\"\"\"\n",
    "result = session.run(popular_authors_sent)"
   ]
  },
  {
   "cell_type": "code",
   "execution_count": 203,
   "id": "6a29faa2",
   "metadata": {},
   "outputs": [
    {
     "name": "stdout",
     "output_type": "stream",
     "text": [
      "Марисса Мейер, ['Киберпанк', 'Зарубежное фэнтези', 'Космическая фантастика'], 10\n",
      "Керри Манискалко, ['Зарубежные детективы'], 10\n",
      "Эрих Ремарк, ['Классическая зарубежная литература'], 8\n",
      "Холли Блэк, ['Фантастика и фэнтези для подростков', 'Зарубежное фэнтези'], 6\n",
      "Донна Тартт, ['Современная зарубежная проза'], 6\n"
     ]
    }
   ],
   "source": [
    "for res in result:\n",
    "    print(res.data()['author'], res.data()['genre'], res.data()['cnt'], sep=', ')"
   ]
  },
  {
   "cell_type": "markdown",
   "id": "219e3adc",
   "metadata": {},
   "source": []
  },
  {
   "cell_type": "code",
   "execution_count": 23,
   "id": "7e41ebc5",
   "metadata": {},
   "outputs": [],
   "source": [
    "q = \"\"\"MATCH (p1:Person)-[:SENT_BOOK_TO]->(p2:Person),\n",
    "        (p1)-[:LIVES_IN]->(c1),\n",
    "        (p2)-[:LIVES_IN]->(c2)\n",
    "        WHERE c1 = c2\n",
    "        RETURN p1.name AS from, p2.name AS to, c1.name AS country\"\"\"\n",
    "result = session.run(q)"
   ]
  },
  {
   "cell_type": "code",
   "execution_count": 24,
   "id": "eeecec66",
   "metadata": {},
   "outputs": [
    {
     "name": "stdout",
     "output_type": "stream",
     "text": [
      "{'country': 'Индия', 'from': 'Платонова Есения', 'to': 'Чистякова Валерия'}\n",
      "{'country': 'Южная Корея', 'from': 'Степанова Нина', 'to': 'Коновалова Кира'}\n",
      "{'country': 'Индия', 'from': 'Чистякова Валерия', 'to': 'Матвеев Вадим'}\n",
      "{'country': 'Испания', 'from': 'Еремина Милана', 'to': 'Цветков Егор'}\n",
      "{'country': 'Грузия', 'from': 'Кравцова Анастасия', 'to': 'Нестеров Павел'}\n",
      "{'country': 'Канада', 'from': 'Смирнов Даниил', 'to': 'Казакова Алиса'}\n",
      "{'country': 'Канада', 'from': 'Моисеева Елена', 'to': 'Казакова Алиса'}\n",
      "{'country': 'Камерун', 'from': 'Щеглова Полина', 'to': 'Островская Николь'}\n",
      "{'country': 'Испания', 'from': 'Лебедев Максим', 'to': 'Тимофеева Валерия'}\n"
     ]
    }
   ],
   "source": [
    "for res in result:\n",
    "    pprint(res.data())"
   ]
  },
  {
   "cell_type": "code",
   "execution_count": 7,
   "id": "4863e1f5",
   "metadata": {},
   "outputs": [
    {
     "name": "stdout",
     "output_type": "stream",
     "text": [
      "[{'avg_n_books': 1.33}]\n"
     ]
    }
   ],
   "source": [
    "q = \"\"\"MATCH (p:Person)\n",
    "        RETURN round(avg(apoc.node.degree.out(p, 'SENT_BOOK_TO')), 2) as avg_n_books\"\"\"\n",
    "result = session.run(q)\n",
    "print(result.data())"
   ]
  },
  {
   "cell_type": "code",
   "execution_count": 3,
   "id": "63beb93c",
   "metadata": {},
   "outputs": [],
   "source": [
    "q = \"\"\"MATCH p=ShortestPath((p1:Person {name:'Дубровин Ярослав'})\n",
    "        -[:SENT_BOOK_TO|LIVES_IN*1..50]->(c1:Country {name:'Россия'}))\n",
    "        RETURN p\"\"\"\n",
    "result = session.run(q)"
   ]
  },
  {
   "cell_type": "code",
   "execution_count": 4,
   "id": "dedfeeab",
   "metadata": {},
   "outputs": [
    {
     "name": "stdout",
     "output_type": "stream",
     "text": [
      "{'p': [{'age': '79', 'name': 'Дубровин Ярослав'},\n",
      "       'SENT_BOOK_TO',\n",
      "       {'age': '22', 'name': 'Федотова Елизавета'},\n",
      "       'SENT_BOOK_TO',\n",
      "       {'age': '49', 'name': 'Горюнова Варвара'},\n",
      "       'LIVES_IN',\n",
      "       {'name': 'Россия'}]}\n"
     ]
    }
   ],
   "source": [
    "for res in result:\n",
    "    pprint(res.data())"
   ]
  }
 ],
 "metadata": {
  "kernelspec": {
   "display_name": "Python 3 (ipykernel)",
   "language": "python",
   "name": "python3"
  },
  "language_info": {
   "codemirror_mode": {
    "name": "ipython",
    "version": 3
   },
   "file_extension": ".py",
   "mimetype": "text/x-python",
   "name": "python",
   "nbconvert_exporter": "python",
   "pygments_lexer": "ipython3",
   "version": "3.10.1"
  }
 },
 "nbformat": 4,
 "nbformat_minor": 5
}
