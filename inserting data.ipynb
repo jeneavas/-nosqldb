{
 "cells": [
  {
   "cell_type": "code",
   "execution_count": 1,
   "id": "f019be02",
   "metadata": {},
   "outputs": [],
   "source": [
    "from neo4j import GraphDatabase, basic_auth\n",
    "\n",
    "driver = GraphDatabase.driver(\n",
    "    \"neo4j+s://2bb967b7.databases.neo4j.io:7687\", \n",
    "    auth=basic_auth(\"neo4j\", \"R4t4Mta4Z-qidT1aY6UNWUH701RJD1oAFfubc-gWJG8\"))\n",
    "session = driver.session()"
   ]
  },
  {
   "cell_type": "code",
   "execution_count": 93,
   "id": "a152bf09",
   "metadata": {},
   "outputs": [],
   "source": [
    "cypher_query = '''\n",
    "MATCH (a)\n",
    "RETURN a\n",
    "'''\n",
    "\n",
    "results = session.run(cypher_query,\n",
    "  parameters={})"
   ]
  },
  {
   "cell_type": "code",
   "execution_count": 144,
   "id": "9be0ce74",
   "metadata": {},
   "outputs": [],
   "source": [
    "for record in results:\n",
    "    print(record)"
   ]
  },
  {
   "cell_type": "markdown",
   "id": "b5652b58",
   "metadata": {},
   "source": [
    "## 0. Открываем файлы"
   ]
  },
  {
   "cell_type": "code",
   "execution_count": 10,
   "id": "c7531473",
   "metadata": {},
   "outputs": [],
   "source": [
    "import json"
   ]
  },
  {
   "cell_type": "code",
   "execution_count": 74,
   "id": "76b4646d",
   "metadata": {},
   "outputs": [],
   "source": [
    "with open('names.txt', 'r', encoding='utf-8') as f:\n",
    "    names = f.read()\n",
    "names = names.split('\\n')"
   ]
  },
  {
   "cell_type": "code",
   "execution_count": 103,
   "id": "7044d411",
   "metadata": {},
   "outputs": [],
   "source": [
    "with open('cities.txt', 'r', encoding='utf-8') as f:\n",
    "    cities = f.read()\n",
    "cities = cities.split('\\n')"
   ]
  },
  {
   "cell_type": "code",
   "execution_count": 120,
   "id": "3209e160",
   "metadata": {},
   "outputs": [
    {
     "data": {
      "text/plain": [
       "['Царичанка, Украина',\n",
       " 'Беллвилл, США',\n",
       " 'Чечон, Южная Корея',\n",
       " 'Макушино, Россия',\n",
       " 'Утта, Россия',\n",
       " 'Карели, Грузия',\n",
       " 'Вердан, Канада',\n",
       " 'Софрино, Россия',\n",
       " 'Вест-Варехам, США',\n",
       " 'Кочево, Россия',\n",
       " 'Вахтан, Россия',\n",
       " 'Титагарх, Индия',\n",
       " 'Норт-Белмонт, США',\n",
       " 'Тируччираппалли, Индия',\n",
       " 'Темпл, США',\n",
       " 'Дормидонтовка, Россия',\n",
       " 'Виго, Испания',\n",
       " 'Вуктыл, Россия',\n",
       " 'Гаруа, Камерун',\n",
       " 'Юргамыш, Россия']"
      ]
     },
     "execution_count": 120,
     "metadata": {},
     "output_type": "execute_result"
    }
   ],
   "source": [
    "cities"
   ]
  },
  {
   "cell_type": "code",
   "execution_count": 121,
   "id": "cbb957d4",
   "metadata": {},
   "outputs": [],
   "source": [
    "countries_dict = {}\n",
    "for c in cities:\n",
    "    city = c.split(',')[0]\n",
    "    country = c.split(',')[1].strip()\n",
    "    if country not in countries_dict.keys():\n",
    "        countries_dict[country] = []\n",
    "    countries_dict[country].append(city)"
   ]
  },
  {
   "cell_type": "code",
   "execution_count": 122,
   "id": "2a4fd4a5",
   "metadata": {},
   "outputs": [
    {
     "data": {
      "text/plain": [
       "{'Украина': ['Царичанка'],\n",
       " 'США': ['Беллвилл', 'Вест-Варехам', 'Норт-Белмонт', 'Темпл'],\n",
       " 'Южная Корея': ['Чечон'],\n",
       " 'Россия': ['Макушино',\n",
       "  'Утта',\n",
       "  'Софрино',\n",
       "  'Кочево',\n",
       "  'Вахтан',\n",
       "  'Дормидонтовка',\n",
       "  'Вуктыл',\n",
       "  'Юргамыш'],\n",
       " 'Грузия': ['Карели'],\n",
       " 'Канада': ['Вердан'],\n",
       " 'Индия': ['Титагарх', 'Тируччираппалли'],\n",
       " 'Испания': ['Виго'],\n",
       " 'Камерун': ['Гаруа']}"
      ]
     },
     "execution_count": 122,
     "metadata": {},
     "output_type": "execute_result"
    }
   ],
   "source": [
    "countries_dict "
   ]
  },
  {
   "cell_type": "code",
   "execution_count": null,
   "id": "8863110e",
   "metadata": {},
   "outputs": [],
   "source": [
    "cities_dict = {c.split(',')[1]: for c in cities}"
   ]
  },
  {
   "cell_type": "code",
   "execution_count": 15,
   "id": "36d007a7",
   "metadata": {},
   "outputs": [],
   "source": [
    "with open('interests.txt', 'r', encoding='utf-8') as f:\n",
    "    interests = f.read()\n",
    "interests = interests.split('\\n')"
   ]
  },
  {
   "cell_type": "code",
   "execution_count": 11,
   "id": "16e23e29",
   "metadata": {},
   "outputs": [],
   "source": [
    "with open('books_info.json', 'r', encoding='utf-8') as f:\n",
    "    data = json.load(f)"
   ]
  },
  {
   "cell_type": "markdown",
   "id": "ae24b787",
   "metadata": {},
   "source": [
    "## 1. Люди и связи между ними"
   ]
  },
  {
   "cell_type": "markdown",
   "id": "6ec625d4",
   "metadata": {},
   "source": [
    "### 1.1 Nodes. Люди"
   ]
  },
  {
   "cell_type": "code",
   "execution_count": 38,
   "id": "1107c390",
   "metadata": {},
   "outputs": [],
   "source": [
    "import random as rnd"
   ]
  },
  {
   "cell_type": "code",
   "execution_count": 43,
   "id": "5b6a5c81",
   "metadata": {},
   "outputs": [],
   "source": [
    "import tqdm as tqdm "
   ]
  },
  {
   "cell_type": "code",
   "execution_count": 40,
   "id": "b9465663",
   "metadata": {},
   "outputs": [],
   "source": [
    "create_p_q = []\n",
    "for name in names:\n",
    "    age = rnd.randint(18, 81)\n",
    "    create_people_q = \"\"\"CREATE (p:Person {name:'%s', age:'%s'})\"\"\" % (name, age)\n",
    "    create_p_q.append(create_people_q)"
   ]
  },
  {
   "cell_type": "code",
   "execution_count": 41,
   "id": "4c6ab024",
   "metadata": {
    "scrolled": true
   },
   "outputs": [
    {
     "data": {
      "text/plain": [
       "[\"CREATE (p:Person {name:'Константинов Алексей', age:'57'})\",\n",
       " \"CREATE (p:Person {name:'Данилов Владислав', age:'59'})\",\n",
       " \"CREATE (p:Person {name:'Харитонов Артём', age:'51'})\",\n",
       " \"CREATE (p:Person {name:'Зайцев Иван', age:'75'})\",\n",
       " \"CREATE (p:Person {name:'Пантелеева Александра', age:'35'})\",\n",
       " \"CREATE (p:Person {name:'Васильева Агния', age:'58'})\",\n",
       " \"CREATE (p:Person {name:'Чистякова Валерия', age:'31'})\",\n",
       " \"CREATE (p:Person {name:'Богданов Илья', age:'24'})\",\n",
       " \"CREATE (p:Person {name:'Макаров Кирилл', age:'50'})\",\n",
       " \"CREATE (p:Person {name:'Антонов Пётр', age:'29'})\",\n",
       " \"CREATE (p:Person {name:'Иванов Руслан', age:'67'})\",\n",
       " \"CREATE (p:Person {name:'Капустина Валерия', age:'78'})\",\n",
       " \"CREATE (p:Person {name:'Еремина Милана', age:'32'})\",\n",
       " \"CREATE (p:Person {name:'Петухов Владимир', age:'54'})\",\n",
       " \"CREATE (p:Person {name:'Киселева Варвара', age:'53'})\",\n",
       " \"CREATE (p:Person {name:'Соколов Михаил', age:'47'})\",\n",
       " \"CREATE (p:Person {name:'Казаков Георгий', age:'29'})\",\n",
       " \"CREATE (p:Person {name:'Краснов Матвей', age:'71'})\",\n",
       " \"CREATE (p:Person {name:'Баранова Варвара', age:'76'})\",\n",
       " \"CREATE (p:Person {name:'Коновалова Кира', age:'60'})\",\n",
       " \"CREATE (p:Person {name:'Платонова Есения', age:'36'})\",\n",
       " \"CREATE (p:Person {name:'Матвеев Вадим', age:'63'})\",\n",
       " \"CREATE (p:Person {name:'Федотова Елизавета', age:'22'})\",\n",
       " \"CREATE (p:Person {name:'Лебедев Максим', age:'63'})\",\n",
       " \"CREATE (p:Person {name:'Цветков Егор', age:'18'})\",\n",
       " \"CREATE (p:Person {name:'Котова София', age:'34'})\",\n",
       " \"CREATE (p:Person {name:'Соловьева Милана', age:'38'})\",\n",
       " \"CREATE (p:Person {name:'Волкова Анна', age:'49'})\",\n",
       " \"CREATE (p:Person {name:'Борисов Никита', age:'20'})\",\n",
       " \"CREATE (p:Person {name:'Нестеров Павел', age:'81'})\",\n",
       " \"CREATE (p:Person {name:'Дубровин Ярослав', age:'79'})\",\n",
       " \"CREATE (p:Person {name:'Панкратов Владислав', age:'70'})\",\n",
       " \"CREATE (p:Person {name:'Архипова Диана', age:'81'})\",\n",
       " \"CREATE (p:Person {name:'Щеглова Полина', age:'25'})\",\n",
       " \"CREATE (p:Person {name:'Степанова Нина', age:'71'})\",\n",
       " \"CREATE (p:Person {name:'Смирнов Арсений', age:'77'})\",\n",
       " \"CREATE (p:Person {name:'Кравцова Анастасия', age:'59'})\",\n",
       " \"CREATE (p:Person {name:'Соколов Артём', age:'60'})\",\n",
       " \"CREATE (p:Person {name:'Филиппова Елена', age:'50'})\",\n",
       " \"CREATE (p:Person {name:'Воробьева Арина', age:'52'})\",\n",
       " \"CREATE (p:Person {name:'Горюнова Варвара', age:'49'})\",\n",
       " \"CREATE (p:Person {name:'Смирнов Даниил', age:'54'})\",\n",
       " \"CREATE (p:Person {name:'Чистяков Кирилл', age:'66'})\",\n",
       " \"CREATE (p:Person {name:'Казакова Алиса', age:'71'})\",\n",
       " \"CREATE (p:Person {name:'Шмелев Александр', age:'42'})\",\n",
       " \"CREATE (p:Person {name:'Островская Николь', age:'36'})\",\n",
       " \"CREATE (p:Person {name:'Горшков Марк', age:'23'})\",\n",
       " \"CREATE (p:Person {name:'Моисеева Елена', age:'20'})\",\n",
       " \"CREATE (p:Person {name:'Одинцова Алиса', age:'51'})\",\n",
       " \"CREATE (p:Person {name:'Тимофеева Валерия', age:'42'})\"]"
      ]
     },
     "execution_count": 41,
     "metadata": {},
     "output_type": "execute_result"
    }
   ],
   "source": [
    "create_p_q"
   ]
  },
  {
   "cell_type": "code",
   "execution_count": 42,
   "id": "03f0e1e5",
   "metadata": {},
   "outputs": [],
   "source": [
    "for q in tqdm(create_p_q):\n",
    "    _ = session.run(q)"
   ]
  },
  {
   "cell_type": "markdown",
   "id": "09be19bf",
   "metadata": {},
   "source": [
    "### 1.2 Вершины - страны, ребра - города"
   ]
  },
  {
   "cell_type": "code",
   "execution_count": 114,
   "id": "33078ac6",
   "metadata": {},
   "outputs": [],
   "source": [
    "countries = set(city.split(',')[1].strip() for city in cities)"
   ]
  },
  {
   "cell_type": "code",
   "execution_count": 115,
   "id": "3962a1ea",
   "metadata": {},
   "outputs": [
    {
     "data": {
      "text/plain": [
       "{'Грузия',\n",
       " 'Индия',\n",
       " 'Испания',\n",
       " 'Камерун',\n",
       " 'Канада',\n",
       " 'Россия',\n",
       " 'США',\n",
       " 'Украина',\n",
       " 'Южная Корея'}"
      ]
     },
     "execution_count": 115,
     "metadata": {},
     "output_type": "execute_result"
    }
   ],
   "source": [
    "countries"
   ]
  },
  {
   "cell_type": "code",
   "execution_count": 133,
   "id": "cd3e2eb1",
   "metadata": {},
   "outputs": [],
   "source": [
    "create_c_qs = []\n",
    "for c in countries:\n",
    "    create_c_q = \"\"\"CREATE (c:Country {name:'%s'})\"\"\" % (c)\n",
    "    create_c_qs.append(create_c_q)"
   ]
  },
  {
   "cell_type": "code",
   "execution_count": 134,
   "id": "4fe96819",
   "metadata": {},
   "outputs": [
    {
     "data": {
      "text/plain": [
       "[\"CREATE (c:Country {name:'США'})\",\n",
       " \"CREATE (c:Country {name:'Камерун'})\",\n",
       " \"CREATE (c:Country {name:'Грузия'})\",\n",
       " \"CREATE (c:Country {name:'Россия'})\",\n",
       " \"CREATE (c:Country {name:'Испания'})\",\n",
       " \"CREATE (c:Country {name:'Индия'})\",\n",
       " \"CREATE (c:Country {name:'Южная Корея'})\",\n",
       " \"CREATE (c:Country {name:'Канада'})\",\n",
       " \"CREATE (c:Country {name:'Украина'})\"]"
      ]
     },
     "execution_count": 134,
     "metadata": {},
     "output_type": "execute_result"
    }
   ],
   "source": [
    "create_c_qs"
   ]
  },
  {
   "cell_type": "code",
   "execution_count": 135,
   "id": "bebc62c7",
   "metadata": {},
   "outputs": [
    {
     "name": "stderr",
     "output_type": "stream",
     "text": [
      "100%|████████████████████████████████████████████████████████████████████████████████████| 9/9 [00:03<00:00,  2.91it/s]\n"
     ]
    }
   ],
   "source": [
    "for q in tqdm(create_c_qs):\n",
    "    _ = session.run(q)"
   ]
  },
  {
   "cell_type": "markdown",
   "id": "e9c40fd5",
   "metadata": {},
   "source": [
    "### 1.3 Вершины - интересы"
   ]
  },
  {
   "cell_type": "code",
   "execution_count": 100,
   "id": "06a6f23d",
   "metadata": {},
   "outputs": [],
   "source": [
    "create_int_qs = []\n",
    "for interest in interests:\n",
    "    create_int_q = \"\"\"CREATE (c:Interest {name:'%s'})\"\"\" % (interest)\n",
    "    create_int_qs.append(create_int_q)"
   ]
  },
  {
   "cell_type": "code",
   "execution_count": 102,
   "id": "1eaab59b",
   "metadata": {},
   "outputs": [
    {
     "name": "stderr",
     "output_type": "stream",
     "text": [
      "100%|██████████████████████████████████████████████████████████████████████████████████| 10/10 [00:03<00:00,  2.97it/s]\n"
     ]
    }
   ],
   "source": [
    "for q in tqdm(create_int_qs):\n",
    "    _ = session.run(q)"
   ]
  },
  {
   "cell_type": "code",
   "execution_count": 101,
   "id": "97b093ed",
   "metadata": {},
   "outputs": [
    {
     "data": {
      "text/plain": [
       "[\"CREATE (c:Interest {name:'Детективы'})\",\n",
       " \"CREATE (c:Interest {name:'Фэнтези'})\",\n",
       " \"CREATE (c:Interest {name:'Русская литература'})\",\n",
       " \"CREATE (c:Interest {name:'Зарубежная литература'})\",\n",
       " \"CREATE (c:Interest {name:'Фантастика'})\",\n",
       " \"CREATE (c:Interest {name:'Психология'})\",\n",
       " \"CREATE (c:Interest {name:'Политика'})\",\n",
       " \"CREATE (c:Interest {name:'Ужасы'})\",\n",
       " \"CREATE (c:Interest {name:'Романы'})\",\n",
       " \"CREATE (c:Interest {name:'Кино'})\"]"
      ]
     },
     "execution_count": 101,
     "metadata": {},
     "output_type": "execute_result"
    }
   ],
   "source": [
    "create_int_qs"
   ]
  },
  {
   "cell_type": "markdown",
   "id": "ba2c6f33",
   "metadata": {},
   "source": [
    "### 2.1 Добавляем ребра - книги"
   ]
  },
  {
   "cell_type": "code",
   "execution_count": 56,
   "id": "374df905",
   "metadata": {},
   "outputs": [],
   "source": [
    "import datetime"
   ]
  },
  {
   "cell_type": "code",
   "execution_count": 65,
   "id": "9717c4b0",
   "metadata": {},
   "outputs": [],
   "source": [
    "def gen_dates(n):\n",
    "    dates = []\n",
    "    for _ in range(n):\n",
    "        startdate=datetime.date(2021,12,1)\n",
    "        date=startdate+datetime.timedelta(rnd.randint(1,101))\n",
    "        dates.append(date.strftime(\"%Y-%m-%d\"))\n",
    "    return dates"
   ]
  },
  {
   "cell_type": "code",
   "execution_count": 66,
   "id": "c5d6f006",
   "metadata": {},
   "outputs": [],
   "source": [
    "dates = gen_dates(70)"
   ]
  },
  {
   "cell_type": "code",
   "execution_count": 78,
   "id": "a24f9965",
   "metadata": {},
   "outputs": [],
   "source": [
    "send_book_qs = []\n",
    "for _ in range(70):\n",
    "    names_q = rnd.choices(names, k=2)\n",
    "    if names_q[0] == names_q[1]:\n",
    "        continue\n",
    "    date = rnd.choice(dates)\n",
    "    book_name = rnd.choice(list(data.keys()))\n",
    "    author = data[book_name]['author']\n",
    "    genre = data[book_name]['genre']\n",
    "    pub = data[book_name]['pub_year']\n",
    "    \n",
    "    \n",
    "    \n",
    "    send_books = \"\"\"\n",
    "        MATCH (a:Person {name:'%s'}) \n",
    "        MATCH (b:Person {name:'%s'})\n",
    "        Create (a)-[:SENT_BOOK_TO {date: \"%s\", book_name: \"%s\",\n",
    "                    author: \"%s\", genre : \"%s\", bup_year : \"%s\"}]->(b)\n",
    "        return *\n",
    "        \"\"\" % (names_q[0], names_q[1], date, book_name, author, genre, pub)\n",
    "    \n",
    "    send_book_qs.append(send_books)"
   ]
  },
  {
   "cell_type": "code",
   "execution_count": 82,
   "id": "11ae9132",
   "metadata": {},
   "outputs": [],
   "source": [
    "from tqdm import tqdm"
   ]
  },
  {
   "cell_type": "code",
   "execution_count": 88,
   "id": "c2a7512c",
   "metadata": {},
   "outputs": [
    {
     "name": "stderr",
     "output_type": "stream",
     "text": [
      "100%|██████████████████████████████████████████████████████████████████████████████████| 34/34 [00:10<00:00,  3.11it/s]\n"
     ]
    }
   ],
   "source": [
    "for q in tqdm(send_book_qs[35:]):\n",
    "    _ = session.run(q)"
   ]
  },
  {
   "cell_type": "code",
   "execution_count": 87,
   "id": "3a10faaa",
   "metadata": {
    "scrolled": true
   },
   "outputs": [
    {
     "data": {
      "text/plain": [
       "['\\n        MATCH (a:Person {name:\\'Кравцова Анастасия\\'}) \\n        MATCH (b:Person {name:\\'Макаров Кирилл\\'})\\n        Create (a)-[:SENT_BOOK_TO {date: \"2022-01-27\", book_name: \"Иметь или быть?\",\\n                    author: \"Эрих Фромм\", genre : \"Классическая психология\", bup_year : \"2022\"}]->(b)\\n        return *\\n        ',\n",
       " '\\n        MATCH (a:Person {name:\\'Моисеева Елена\\'}) \\n        MATCH (b:Person {name:\\'Казакова Алиса\\'})\\n        Create (a)-[:SENT_BOOK_TO {date: \"2022-03-03\", book_name: \"Тайная история\",\\n                    author: \"Донна Тартт\", genre : \"Современная зарубежная проза\", bup_year : \"2022\"}]->(b)\\n        return *\\n        ',\n",
       " '\\n        MATCH (a:Person {name:\\'Данилов Владислав\\'}) \\n        MATCH (b:Person {name:\\'Петухов Владимир\\'})\\n        Create (a)-[:SENT_BOOK_TO {date: \"2022-02-06\", book_name: \"Как ты умрешь\",\\n                    author: \"Майк Омер\", genre : \"Триллеры\", bup_year : \"2022\"}]->(b)\\n        return *\\n        ',\n",
       " '\\n        MATCH (a:Person {name:\\'Пантелеева Александра\\'}) \\n        MATCH (b:Person {name:\\'Краснов Матвей\\'})\\n        Create (a)-[:SENT_BOOK_TO {date: \"2022-02-06\", book_name: \"Пикник на обочине\",\\n                    author: \"[\\'Аркадий Стругацкий\\', \\' Борис Стругацкий\\']\", genre : \"Научная фантастика\", bup_year : \"2021\"}]->(b)\\n        return *\\n        ',\n",
       " '\\n        MATCH (a:Person {name:\\'Тимофеева Валерия\\'}) \\n        MATCH (b:Person {name:\\'Матвеев Вадим\\'})\\n        Create (a)-[:SENT_BOOK_TO {date: \"2022-02-23\", book_name: \"11/22/63\",\\n                    author: \"Стивен Кинг\", genre : \"Зарубежная фантастика\", bup_year : \"2021\"}]->(b)\\n        return *\\n        ',\n",
       " '\\n        MATCH (a:Person {name:\\'Щеглова Полина\\'}) \\n        MATCH (b:Person {name:\\'Соколов Михаил\\'})\\n        Create (a)-[:SENT_BOOK_TO {date: \"2021-12-25\", book_name: \"Мизери\",\\n                    author: \"Стивен Кинг\", genre : \"Ужасы. Мистика\", bup_year : \"2021\"}]->(b)\\n        return *\\n        ',\n",
       " '\\n        MATCH (a:Person {name:\\'Еремина Милана\\'}) \\n        MATCH (b:Person {name:\\'Цветков Егор\\'})\\n        Create (a)-[:SENT_BOOK_TO {date: \"2022-01-24\", book_name: \"Шифр\",\\n                    author: \"Изабелла Мальдонадо\", genre : \"Зарубежные детективы\", bup_year : \"2022\"}]->(b)\\n        return *\\n        ',\n",
       " '\\n        MATCH (a:Person {name:\\'Макаров Кирилл\\'}) \\n        MATCH (b:Person {name:\\'Баранова Варвара\\'})\\n        Create (a)-[:SENT_BOOK_TO {date: \"2022-03-12\", book_name: \"Заводной апельсин\",\\n                    author: \"Энтони Бёрджесс\", genre : \"Антиутопия\", bup_year : \"2021\"}]->(b)\\n        return *\\n        ',\n",
       " '\\n        MATCH (a:Person {name:\\'Платонова Есения\\'}) \\n        MATCH (b:Person {name:\\'Чистякова Валерия\\'})\\n        Create (a)-[:SENT_BOOK_TO {date: \"2022-02-24\", book_name: \"Мара и Морок. Особенная Тень\",\\n                    author: \"Лия Арден\", genre : \"Любовное фэнтези\", bup_year : \"2021\"}]->(b)\\n        return *\\n        ',\n",
       " '\\n        MATCH (a:Person {name:\\'Зайцев Иван\\'}) \\n        MATCH (b:Person {name:\\'Кравцова Анастасия\\'})\\n        Create (a)-[:SENT_BOOK_TO {date: \"2022-02-01\", book_name: \"Щегол\",\\n                    author: \"Донна Тартт\", genre : \"Современная зарубежная проза\", bup_year : \"2021\"}]->(b)\\n        return *\\n        ',\n",
       " '\\n        MATCH (a:Person {name:\\'Островская Николь\\'}) \\n        MATCH (b:Person {name:\\'Котова София\\'})\\n        Create (a)-[:SENT_BOOK_TO {date: \"2022-03-01\", book_name: \"Под небом Парижа\",\\n                    author: \"Дана Делон\", genre : \"Русская сентиментальная проза\", bup_year : \"2021\"}]->(b)\\n        return *\\n        ',\n",
       " '\\n        MATCH (a:Person {name:\\'Смирнов Даниил\\'}) \\n        MATCH (b:Person {name:\\'Казакова Алиса\\'})\\n        Create (a)-[:SENT_BOOK_TO {date: \"2022-02-06\", book_name: \"Побег от Гудини. Охота на дьявола\",\\n                    author: \"Керри Манискалко\", genre : \"Зарубежные детективы\", bup_year : \"2021\"}]->(b)\\n        return *\\n        ',\n",
       " '\\n        MATCH (a:Person {name:\\'Панкратов Владислав\\'}) \\n        MATCH (b:Person {name:\\'Архипова Диана\\'})\\n        Create (a)-[:SENT_BOOK_TO {date: \"2022-02-06\", book_name: \"Заводной апельсин\",\\n                    author: \"Энтони Бёрджесс\", genre : \"Антиутопия\", bup_year : \"2021\"}]->(b)\\n        return *\\n        ',\n",
       " '\\n        MATCH (a:Person {name:\\'Баранова Варвара\\'}) \\n        MATCH (b:Person {name:\\'Капустина Валерия\\'})\\n        Create (a)-[:SENT_BOOK_TO {date: \"2021-12-31\", book_name: \"Мгновенная карма\",\\n                    author: \"Марисса Мейер\", genre : \"Зарубежное фэнтези\", bup_year : \"2021\"}]->(b)\\n        return *\\n        ',\n",
       " '\\n        MATCH (a:Person {name:\\'Тимофеева Валерия\\'}) \\n        MATCH (b:Person {name:\\'Архипова Диана\\'})\\n        Create (a)-[:SENT_BOOK_TO {date: \"2022-02-06\", book_name: \"Мода и кино. Как фильмы формируют тренды\",\\n                    author: \" Анна Баштовая \", genre : \"Кино\", bup_year : \"2022\"}]->(b)\\n        return *\\n        ',\n",
       " '\\n        MATCH (a:Person {name:\\'Смирнов Арсений\\'}) \\n        MATCH (b:Person {name:\\'Шмелев Александр\\'})\\n        Create (a)-[:SENT_BOOK_TO {date: \"2021-12-26\", book_name: \"Как ты умрешь\",\\n                    author: \"Майк Омер\", genre : \"Триллеры\", bup_year : \"2022\"}]->(b)\\n        return *\\n        ',\n",
       " '\\n        MATCH (a:Person {name:\\'Коновалова Кира\\'}) \\n        MATCH (b:Person {name:\\'Горшков Марк\\'})\\n        Create (a)-[:SENT_BOOK_TO {date: \"2021-12-22\", book_name: \"Стеклянный меч #2\",\\n                    author: \"Виктория Авеярд\", genre : \"Фантастика и фэнтези для подростков\", bup_year : \"2021\"}]->(b)\\n        return *\\n        ',\n",
       " '\\n        MATCH (a:Person {name:\\'Петухов Владимир\\'}) \\n        MATCH (b:Person {name:\\'Одинцова Алиса\\'})\\n        Create (a)-[:SENT_BOOK_TO {date: \"2022-01-05\", book_name: \"Мода и кино. Как фильмы формируют тренды\",\\n                    author: \" Анна Баштовая \", genre : \"Кино\", bup_year : \"2022\"}]->(b)\\n        return *\\n        ',\n",
       " '\\n        MATCH (a:Person {name:\\'Васильева Агния\\'}) \\n        MATCH (b:Person {name:\\'Горшков Марк\\'})\\n        Create (a)-[:SENT_BOOK_TO {date: \"2022-01-03\", book_name: \"За стенкой. История Отиса Ревиаля\",\\n                    author: \"Габриэль Коста\", genre : \"Современная русская проза\", bup_year : \"2022\"}]->(b)\\n        return *\\n        ',\n",
       " '\\n        MATCH (a:Person {name:\\'Краснов Матвей\\'}) \\n        MATCH (b:Person {name:\\'Нестеров Павел\\'})\\n        Create (a)-[:SENT_BOOK_TO {date: \"2022-01-01\", book_name: \"Иллюзия. Иллюзия 2\",\\n                    author: \"Сергей Тармашев\", genre : \"Боевая фантастика\", bup_year : \"2022\"}]->(b)\\n        return *\\n        ',\n",
       " '\\n        MATCH (a:Person {name:\\'Моисеева Елена\\'}) \\n        MATCH (b:Person {name:\\'Константинов Алексей\\'})\\n        Create (a)-[:SENT_BOOK_TO {date: \"2021-12-23\", book_name: \"Великий Гэтсби\",\\n                    author: \"Фрэнсис Фицджеральд\", genre : \"Классическая зарубежная литература\", bup_year : \"2022\"}]->(b)\\n        return *\\n        ',\n",
       " '\\n        MATCH (a:Person {name:\\'Цветков Егор\\'}) \\n        MATCH (b:Person {name:\\'Матвеев Вадим\\'})\\n        Create (a)-[:SENT_BOOK_TO {date: \"2022-01-05\", book_name: \"Ночь в Лиссабоне\",\\n                    author: \"Эрих Ремарк\", genre : \"Классическая зарубежная литература\", bup_year : \"2021\"}]->(b)\\n        return *\\n        ',\n",
       " '\\n        MATCH (a:Person {name:\\'Моисеева Елена\\'}) \\n        MATCH (b:Person {name:\\'Киселева Варвара\\'})\\n        Create (a)-[:SENT_BOOK_TO {date: \"2022-01-03\", book_name: \"Легендо\",\\n                    author: \"Стефани Гарбер\", genre : \"Фантастика и фэнтези для подростков\", bup_year : \"2022\"}]->(b)\\n        return *\\n        ',\n",
       " '\\n        MATCH (a:Person {name:\\'Котова София\\'}) \\n        MATCH (b:Person {name:\\'Макаров Кирилл\\'})\\n        Create (a)-[:SENT_BOOK_TO {date: \"2022-03-12\", book_name: \"Агрессор\",\\n                    author: \"Пенелопа Дуглас\", genre : \"Зарубежные любовные романы\", bup_year : \"2022\"}]->(b)\\n        return *\\n        ',\n",
       " '\\n        MATCH (a:Person {name:\\'Коновалова Кира\\'}) \\n        MATCH (b:Person {name:\\'Васильева Агния\\'})\\n        Create (a)-[:SENT_BOOK_TO {date: \"2022-03-06\", book_name: \"Золушка\",\\n                    author: \"Марисса Мейер\", genre : \"Киберпанк\", bup_year : \"2021\"}]->(b)\\n        return *\\n        ',\n",
       " '\\n        MATCH (a:Person {name:\\'Васильева Агния\\'}) \\n        MATCH (b:Person {name:\\'Соколов Михаил\\'})\\n        Create (a)-[:SENT_BOOK_TO {date: \"2022-02-24\", book_name: \"Тайная история\",\\n                    author: \"Донна Тартт\", genre : \"Современная зарубежная проза\", bup_year : \"2022\"}]->(b)\\n        return *\\n        ',\n",
       " '\\n        MATCH (a:Person {name:\\'Степанова Нина\\'}) \\n        MATCH (b:Person {name:\\'Горюнова Варвара\\'})\\n        Create (a)-[:SENT_BOOK_TO {date: \"2022-01-21\", book_name: \"Джейн Эйр\",\\n                    author: \"Шарлотта Бронте\", genre : \"Классическая зарубежная литература\", bup_year : \"2022\"}]->(b)\\n        return *\\n        ',\n",
       " '\\n        MATCH (a:Person {name:\\'Кравцова Анастасия\\'}) \\n        MATCH (b:Person {name:\\'Нестеров Павел\\'})\\n        Create (a)-[:SENT_BOOK_TO {date: \"2021-12-31\", book_name: \"Джейн Эйр\",\\n                    author: \"Шарлотта Бронте\", genre : \"Классическая зарубежная литература\", bup_year : \"2022\"}]->(b)\\n        return *\\n        ',\n",
       " '\\n        MATCH (a:Person {name:\\'Моисеева Елена\\'}) \\n        MATCH (b:Person {name:\\'Киселева Варвара\\'})\\n        Create (a)-[:SENT_BOOK_TO {date: \"2022-02-23\", book_name: \"Арчер будет молчать\",\\n                    author: \"Мия Шеридан\", genre : \"Зарубежная сентиментальная проза\", bup_year : \"2019\"}]->(b)\\n        return *\\n        ',\n",
       " '\\n        MATCH (a:Person {name:\\'Одинцова Алиса\\'}) \\n        MATCH (b:Person {name:\\'Киселева Варвара\\'})\\n        Create (a)-[:SENT_BOOK_TO {date: \"2022-01-10\", book_name: \"Белоснежка\",\\n                    author: \"Марисса Мейер\", genre : \"Космическая фантастика\", bup_year : \"2021\"}]->(b)\\n        return *\\n        ',\n",
       " '\\n        MATCH (a:Person {name:\\'Степанова Нина\\'}) \\n        MATCH (b:Person {name:\\'Коновалова Кира\\'})\\n        Create (a)-[:SENT_BOOK_TO {date: \"2022-02-17\", book_name: \"Великий Гэтсби\",\\n                    author: \"Фрэнсис Фицджеральд\", genre : \"Классическая зарубежная литература\", bup_year : \"2022\"}]->(b)\\n        return *\\n        ',\n",
       " '\\n        MATCH (a:Person {name:\\'Петухов Владимир\\'}) \\n        MATCH (b:Person {name:\\'Чистяков Кирилл\\'})\\n        Create (a)-[:SENT_BOOK_TO {date: \"2022-01-10\", book_name: \"Белая кошка\",\\n                    author: \"Холли Блэк\", genre : \"Зарубежное фэнтези\", bup_year : \"2022\"}]->(b)\\n        return *\\n        ',\n",
       " '\\n        MATCH (a:Person {name:\\'Данилов Владислав\\'}) \\n        MATCH (b:Person {name:\\'Чистякова Валерия\\'})\\n        Create (a)-[:SENT_BOOK_TO {date: \"2021-12-22\", book_name: \"Триумфальная арка\",\\n                    author: \"Эрих Ремарк\", genre : \"Классическая зарубежная литература\", bup_year : \"2021\"}]->(b)\\n        return *\\n        ',\n",
       " '\\n        MATCH (a:Person {name:\\'Чистякова Валерия\\'}) \\n        MATCH (b:Person {name:\\'Матвеев Вадим\\'})\\n        Create (a)-[:SENT_BOOK_TO {date: \"2021-12-22\", book_name: \"Триумфальная арка\",\\n                    author: \"Эрих Ремарк\", genre : \"Классическая зарубежная литература\", bup_year : \"2021\"}]->(b)\\n        return *\\n        ']"
      ]
     },
     "execution_count": 87,
     "metadata": {},
     "output_type": "execute_result"
    }
   ],
   "source": [
    "send_book_qs[35:]"
   ]
  },
  {
   "cell_type": "markdown",
   "id": "fb1580c8",
   "metadata": {},
   "source": [
    "### 2.2 Ребра человек-город->страна"
   ]
  },
  {
   "cell_type": "code",
   "execution_count": 132,
   "id": "eef53afc",
   "metadata": {},
   "outputs": [
    {
     "data": {
      "text/plain": [
       "'Дормидонтовка'"
      ]
     },
     "execution_count": 132,
     "metadata": {},
     "output_type": "execute_result"
    }
   ],
   "source": [
    "rnd.choice(list(countries_dict['Россия']))"
   ]
  },
  {
   "cell_type": "code",
   "execution_count": 138,
   "id": "82f6682b",
   "metadata": {},
   "outputs": [],
   "source": [
    "lives_in_qs = []\n",
    "for name in names:\n",
    "    country = rnd.choice(list(countries_dict.keys()))\n",
    "    city = rnd.choice(countries_dict[country])\n",
    "    \n",
    "    lives_in = \"\"\"\n",
    "        MATCH (a:Person {name:'%s'}) \n",
    "        MATCH (c:Country {name:'%s'})\n",
    "        Create (a)-[:LIVES_IN {city : '%s'}]->(c)\n",
    "        return *\n",
    "        \"\"\" % (name, country, city)\n",
    "    \n",
    "    lives_in_qs.append(lives_in)"
   ]
  },
  {
   "cell_type": "code",
   "execution_count": 140,
   "id": "b274255a",
   "metadata": {},
   "outputs": [
    {
     "name": "stderr",
     "output_type": "stream",
     "text": [
      "100%|██████████████████████████████████████████████████████████████████████████████████| 50/50 [00:15<00:00,  3.14it/s]\n"
     ]
    }
   ],
   "source": [
    "for q in tqdm(lives_in_qs):\n",
    "    _ = session.run(q)"
   ]
  },
  {
   "cell_type": "markdown",
   "id": "a240023c",
   "metadata": {},
   "source": [
    "### 2.3 Ребра человек->интерес"
   ]
  },
  {
   "cell_type": "code",
   "execution_count": 141,
   "id": "bfdfbdb1",
   "metadata": {},
   "outputs": [],
   "source": [
    "int_in_qs = []\n",
    "\n",
    "for name in names[:35]:\n",
    "    interest = rnd.choice(interests)\n",
    "    \n",
    "    int_in = \"\"\"\n",
    "        MATCH (a:Person {name:'%s'}) \n",
    "        MATCH (c:Interest {name:'%s'})\n",
    "        Create (a)-[:INTERESTED_IN]->(c)\n",
    "        return *\n",
    "        \"\"\" % (name, interest)\n",
    "    \n",
    "    int_in_qs.append(int_in)"
   ]
  },
  {
   "cell_type": "code",
   "execution_count": 142,
   "id": "0da63ca1",
   "metadata": {
    "scrolled": true
   },
   "outputs": [
    {
     "data": {
      "text/plain": [
       "[\"\\n        MATCH (a:Person {name:'Константинов Алексей'}) \\n        MATCH (c:Interest {name:'Зарубежная литература'})\\n        Create (a)-[:INTERESTED_IN]->(c)\\n        return *\\n        \",\n",
       " \"\\n        MATCH (a:Person {name:'Данилов Владислав'}) \\n        MATCH (c:Interest {name:'Фэнтези'})\\n        Create (a)-[:INTERESTED_IN]->(c)\\n        return *\\n        \",\n",
       " \"\\n        MATCH (a:Person {name:'Харитонов Артём'}) \\n        MATCH (c:Interest {name:'Русская литература'})\\n        Create (a)-[:INTERESTED_IN]->(c)\\n        return *\\n        \",\n",
       " \"\\n        MATCH (a:Person {name:'Зайцев Иван'}) \\n        MATCH (c:Interest {name:'Психология'})\\n        Create (a)-[:INTERESTED_IN]->(c)\\n        return *\\n        \",\n",
       " \"\\n        MATCH (a:Person {name:'Пантелеева Александра'}) \\n        MATCH (c:Interest {name:'Русская литература'})\\n        Create (a)-[:INTERESTED_IN]->(c)\\n        return *\\n        \",\n",
       " \"\\n        MATCH (a:Person {name:'Васильева Агния'}) \\n        MATCH (c:Interest {name:'Зарубежная литература'})\\n        Create (a)-[:INTERESTED_IN]->(c)\\n        return *\\n        \",\n",
       " \"\\n        MATCH (a:Person {name:'Чистякова Валерия'}) \\n        MATCH (c:Interest {name:'Романы'})\\n        Create (a)-[:INTERESTED_IN]->(c)\\n        return *\\n        \",\n",
       " \"\\n        MATCH (a:Person {name:'Богданов Илья'}) \\n        MATCH (c:Interest {name:'Кино'})\\n        Create (a)-[:INTERESTED_IN]->(c)\\n        return *\\n        \",\n",
       " \"\\n        MATCH (a:Person {name:'Макаров Кирилл'}) \\n        MATCH (c:Interest {name:'Политика'})\\n        Create (a)-[:INTERESTED_IN]->(c)\\n        return *\\n        \",\n",
       " \"\\n        MATCH (a:Person {name:'Антонов Пётр'}) \\n        MATCH (c:Interest {name:'Политика'})\\n        Create (a)-[:INTERESTED_IN]->(c)\\n        return *\\n        \",\n",
       " \"\\n        MATCH (a:Person {name:'Иванов Руслан'}) \\n        MATCH (c:Interest {name:'Ужасы'})\\n        Create (a)-[:INTERESTED_IN]->(c)\\n        return *\\n        \",\n",
       " \"\\n        MATCH (a:Person {name:'Капустина Валерия'}) \\n        MATCH (c:Interest {name:'Фантастика'})\\n        Create (a)-[:INTERESTED_IN]->(c)\\n        return *\\n        \",\n",
       " \"\\n        MATCH (a:Person {name:'Еремина Милана'}) \\n        MATCH (c:Interest {name:'Психология'})\\n        Create (a)-[:INTERESTED_IN]->(c)\\n        return *\\n        \",\n",
       " \"\\n        MATCH (a:Person {name:'Петухов Владимир'}) \\n        MATCH (c:Interest {name:'Фантастика'})\\n        Create (a)-[:INTERESTED_IN]->(c)\\n        return *\\n        \",\n",
       " \"\\n        MATCH (a:Person {name:'Киселева Варвара'}) \\n        MATCH (c:Interest {name:'Романы'})\\n        Create (a)-[:INTERESTED_IN]->(c)\\n        return *\\n        \",\n",
       " \"\\n        MATCH (a:Person {name:'Соколов Михаил'}) \\n        MATCH (c:Interest {name:'Зарубежная литература'})\\n        Create (a)-[:INTERESTED_IN]->(c)\\n        return *\\n        \",\n",
       " \"\\n        MATCH (a:Person {name:'Казаков Георгий'}) \\n        MATCH (c:Interest {name:'Ужасы'})\\n        Create (a)-[:INTERESTED_IN]->(c)\\n        return *\\n        \",\n",
       " \"\\n        MATCH (a:Person {name:'Краснов Матвей'}) \\n        MATCH (c:Interest {name:'Психология'})\\n        Create (a)-[:INTERESTED_IN]->(c)\\n        return *\\n        \",\n",
       " \"\\n        MATCH (a:Person {name:'Баранова Варвара'}) \\n        MATCH (c:Interest {name:'Зарубежная литература'})\\n        Create (a)-[:INTERESTED_IN]->(c)\\n        return *\\n        \",\n",
       " \"\\n        MATCH (a:Person {name:'Коновалова Кира'}) \\n        MATCH (c:Interest {name:'Психология'})\\n        Create (a)-[:INTERESTED_IN]->(c)\\n        return *\\n        \",\n",
       " \"\\n        MATCH (a:Person {name:'Платонова Есения'}) \\n        MATCH (c:Interest {name:'Кино'})\\n        Create (a)-[:INTERESTED_IN]->(c)\\n        return *\\n        \",\n",
       " \"\\n        MATCH (a:Person {name:'Матвеев Вадим'}) \\n        MATCH (c:Interest {name:'Кино'})\\n        Create (a)-[:INTERESTED_IN]->(c)\\n        return *\\n        \",\n",
       " \"\\n        MATCH (a:Person {name:'Федотова Елизавета'}) \\n        MATCH (c:Interest {name:'Политика'})\\n        Create (a)-[:INTERESTED_IN]->(c)\\n        return *\\n        \",\n",
       " \"\\n        MATCH (a:Person {name:'Лебедев Максим'}) \\n        MATCH (c:Interest {name:'Фэнтези'})\\n        Create (a)-[:INTERESTED_IN]->(c)\\n        return *\\n        \",\n",
       " \"\\n        MATCH (a:Person {name:'Цветков Егор'}) \\n        MATCH (c:Interest {name:'Кино'})\\n        Create (a)-[:INTERESTED_IN]->(c)\\n        return *\\n        \",\n",
       " \"\\n        MATCH (a:Person {name:'Котова София'}) \\n        MATCH (c:Interest {name:'Романы'})\\n        Create (a)-[:INTERESTED_IN]->(c)\\n        return *\\n        \",\n",
       " \"\\n        MATCH (a:Person {name:'Соловьева Милана'}) \\n        MATCH (c:Interest {name:'Политика'})\\n        Create (a)-[:INTERESTED_IN]->(c)\\n        return *\\n        \",\n",
       " \"\\n        MATCH (a:Person {name:'Волкова Анна'}) \\n        MATCH (c:Interest {name:'Русская литература'})\\n        Create (a)-[:INTERESTED_IN]->(c)\\n        return *\\n        \",\n",
       " \"\\n        MATCH (a:Person {name:'Борисов Никита'}) \\n        MATCH (c:Interest {name:'Психология'})\\n        Create (a)-[:INTERESTED_IN]->(c)\\n        return *\\n        \",\n",
       " \"\\n        MATCH (a:Person {name:'Нестеров Павел'}) \\n        MATCH (c:Interest {name:'Романы'})\\n        Create (a)-[:INTERESTED_IN]->(c)\\n        return *\\n        \",\n",
       " \"\\n        MATCH (a:Person {name:'Дубровин Ярослав'}) \\n        MATCH (c:Interest {name:'Романы'})\\n        Create (a)-[:INTERESTED_IN]->(c)\\n        return *\\n        \",\n",
       " \"\\n        MATCH (a:Person {name:'Панкратов Владислав'}) \\n        MATCH (c:Interest {name:'Романы'})\\n        Create (a)-[:INTERESTED_IN]->(c)\\n        return *\\n        \",\n",
       " \"\\n        MATCH (a:Person {name:'Архипова Диана'}) \\n        MATCH (c:Interest {name:'Психология'})\\n        Create (a)-[:INTERESTED_IN]->(c)\\n        return *\\n        \",\n",
       " \"\\n        MATCH (a:Person {name:'Щеглова Полина'}) \\n        MATCH (c:Interest {name:'Русская литература'})\\n        Create (a)-[:INTERESTED_IN]->(c)\\n        return *\\n        \",\n",
       " \"\\n        MATCH (a:Person {name:'Степанова Нина'}) \\n        MATCH (c:Interest {name:'Детективы'})\\n        Create (a)-[:INTERESTED_IN]->(c)\\n        return *\\n        \"]"
      ]
     },
     "execution_count": 142,
     "metadata": {},
     "output_type": "execute_result"
    }
   ],
   "source": [
    "int_in_qs"
   ]
  },
  {
   "cell_type": "code",
   "execution_count": 143,
   "id": "b5cde611",
   "metadata": {},
   "outputs": [
    {
     "name": "stderr",
     "output_type": "stream",
     "text": [
      "100%|██████████████████████████████████████████████████████████████████████████████████| 35/35 [00:11<00:00,  3.00it/s]\n"
     ]
    }
   ],
   "source": [
    "for q in tqdm(int_in_qs):\n",
    "    _ = session.run(q)"
   ]
  },
  {
   "cell_type": "code",
   "execution_count": null,
   "id": "79221017",
   "metadata": {},
   "outputs": [],
   "source": [
    "cypher_query = \"\"\"\n",
    "MATCH (a:Person {name:'Jane'}) \n",
    "MATCH (b:Person {name:'Jack'})\n",
    "Create (a)-[:SENT_BOOK_TO {date: '{}', book_name: '{}',\n",
    "            author: '{}', genre : '{}', bup_date : '{}'}]->(b)\n",
    "return *\n",
    "\"\"\".format()"
   ]
  }
 ],
 "metadata": {
  "kernelspec": {
   "display_name": "Python 3 (ipykernel)",
   "language": "python",
   "name": "python3"
  },
  "language_info": {
   "codemirror_mode": {
    "name": "ipython",
    "version": 3
   },
   "file_extension": ".py",
   "mimetype": "text/x-python",
   "name": "python",
   "nbconvert_exporter": "python",
   "pygments_lexer": "ipython3",
   "version": "3.10.1"
  }
 },
 "nbformat": 4,
 "nbformat_minor": 5
}
