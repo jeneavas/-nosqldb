{
 "cells": [
  {
   "cell_type": "markdown",
   "id": "81894f1b",
   "metadata": {},
   "source": [
    "# preparing data"
   ]
  },
  {
   "cell_type": "markdown",
   "id": "e72cdcbc",
   "metadata": {},
   "source": [
    "## 1. people"
   ]
  },
  {
   "cell_type": "code",
   "execution_count": 8,
   "id": "1dc1eaaa",
   "metadata": {},
   "outputs": [],
   "source": [
    "with open('names.txt', 'r', encoding='utf-8') as f:\n",
    "    names = f.read()"
   ]
  },
  {
   "cell_type": "code",
   "execution_count": 11,
   "id": "0563020d",
   "metadata": {},
   "outputs": [],
   "source": [
    "names = names.split('\\n')"
   ]
  },
  {
   "cell_type": "markdown",
   "id": "a1269b19",
   "metadata": {},
   "source": [
    "## 2. books"
   ]
  },
  {
   "cell_type": "code",
   "execution_count": 12,
   "id": "1cc728ae",
   "metadata": {},
   "outputs": [
    {
     "name": "stdout",
     "output_type": "stream",
     "text": [
      "Collecting beautifulsoup4"
     ]
    },
    {
     "name": "stderr",
     "output_type": "stream",
     "text": [
      "WARNING: You are using pip version 21.2.4; however, version 22.0.4 is available.\n",
      "You should consider upgrading via the 'C:\\Program Files\\Python310\\python.exe -m pip install --upgrade pip' command.\n"
     ]
    },
    {
     "name": "stdout",
     "output_type": "stream",
     "text": [
      "\n",
      "  Using cached beautifulsoup4-4.10.0-py3-none-any.whl (97 kB)\n",
      "Collecting soupsieve>1.2\n",
      "  Using cached soupsieve-2.3.1-py3-none-any.whl (37 kB)\n",
      "Installing collected packages: soupsieve, beautifulsoup4\n",
      "Successfully installed beautifulsoup4-4.10.0 soupsieve-2.3.1\n",
      "Collecting requests\n",
      "  Downloading requests-2.27.1-py2.py3-none-any.whl (63 kB)\n",
      "Collecting idna<4,>=2.5\n",
      "  Using cached idna-3.3-py3-none-any.whl (61 kB)\n",
      "Collecting urllib3<1.27,>=1.21.1\n",
      "  Downloading urllib3-1.26.9-py2.py3-none-any.whl (138 kB)\n",
      "Collecting charset-normalizer~=2.0.0\n",
      "  Downloading charset_normalizer-2.0.12-py3-none-any.whl (39 kB)\n",
      "Collecting certifi>=2017.4.17\n",
      "  Using cached certifi-2021.10.8-py2.py3-none-any.whl (149 kB)\n",
      "Installing collected packages: urllib3, idna, charset-normalizer, certifi, requests\n",
      "Successfully installed certifi-2021.10.8 charset-normalizer-2.0.12 idna-3.3 requests-2.27.1 urllib3-1.26.9\n"
     ]
    },
    {
     "name": "stderr",
     "output_type": "stream",
     "text": [
      "WARNING: You are using pip version 21.2.4; however, version 22.0.4 is available.\n",
      "You should consider upgrading via the 'C:\\Program Files\\Python310\\python.exe -m pip install --upgrade pip' command.\n",
      "ERROR: Could not find a version that satisfies the requirement urllib (from versions: none)\n",
      "ERROR: No matching distribution found for urllib\n",
      "WARNING: You are using pip version 21.2.4; however, version 22.0.4 is available.\n",
      "You should consider upgrading via the 'C:\\Program Files\\Python310\\python.exe -m pip install --upgrade pip' command.\n"
     ]
    },
    {
     "name": "stdout",
     "output_type": "stream",
     "text": [
      "Collecting pymorphy2\n",
      "  Using cached pymorphy2-0.9.1-py3-none-any.whl (55 kB)\n",
      "Collecting pymorphy2-dicts-ru<3.0,>=2.4\n",
      "  Using cached pymorphy2_dicts_ru-2.4.417127.4579844-py2.py3-none-any.whl (8.2 MB)\n",
      "Collecting docopt>=0.6\n",
      "  Using cached docopt-0.6.2.tar.gz (25 kB)\n",
      "Collecting dawg-python>=0.7.1\n",
      "  Using cached DAWG_Python-0.7.2-py2.py3-none-any.whl (11 kB)\n",
      "Using legacy 'setup.py install' for docopt, since package 'wheel' is not installed.\n",
      "Installing collected packages: pymorphy2-dicts-ru, docopt, dawg-python, pymorphy2\n",
      "    Running setup.py install for docopt: started\n",
      "    Running setup.py install for docopt: finished with status 'done'\n",
      "Successfully installed dawg-python-0.7.2 docopt-0.6.2 pymorphy2-0.9.1 pymorphy2-dicts-ru-2.4.417127.4579844\n"
     ]
    },
    {
     "name": "stderr",
     "output_type": "stream",
     "text": [
      "WARNING: You are using pip version 21.2.4; however, version 22.0.4 is available.\n",
      "You should consider upgrading via the 'C:\\Program Files\\Python310\\python.exe -m pip install --upgrade pip' command.\n"
     ]
    }
   ],
   "source": [
    "!pip install beautifulsoup4\n",
    "! pip install requests\n",
    "! pip install urllib"
   ]
  },
  {
   "cell_type": "code",
   "execution_count": 13,
   "id": "5dbac04c",
   "metadata": {},
   "outputs": [],
   "source": [
    "import requests\n",
    "from bs4 import BeautifulSoup\n",
    "import re\n",
    "import json\n",
    "from tqdm import tqdm"
   ]
  },
  {
   "cell_type": "code",
   "execution_count": 38,
   "id": "9d3d526b",
   "metadata": {},
   "outputs": [],
   "source": [
    "links = ['https://book24.ru/knigi-bestsellery/page-3/', 'https://book24.ru/knigi-bestsellery/page-4/', \n",
    "         'https://book24.ru/knigi-bestsellery/page-5/']"
   ]
  },
  {
   "cell_type": "code",
   "execution_count": 39,
   "id": "17650728",
   "metadata": {},
   "outputs": [],
   "source": [
    "def get_authors(info):\n",
    "    authors = []\n",
    "    for book in info:\n",
    "        inf = book.find_all('a', {'class':'author-list__item smartLink'})\n",
    "        if len(inf) == 1:\n",
    "            authors.append([inf[0].get_text()])\n",
    "        elif len(inf) == 0:\n",
    "            try:\n",
    "                inf = book.find_all('span', {'class':'author-list__item'})\n",
    "                authors.append([inf[0].get_text()])\n",
    "            except:\n",
    "                print(book)\n",
    "        else:\n",
    "            au = [i.get_text() for i in inf]\n",
    "            authors.append(au)\n",
    "    return authors"
   ]
  },
  {
   "cell_type": "code",
   "execution_count": 27,
   "id": "eddf9913",
   "metadata": {
    "scrolled": true
   },
   "outputs": [
    {
     "data": {
      "text/plain": [
       "[['Стивен Кинг'],\n",
       " ['Мия Шеридан'],\n",
       " ['Редгрейн Лебовски'],\n",
       " ['Эрин Уатт'],\n",
       " ['Шарлотта Бронте'],\n",
       " ['Аннетт Мари'],\n",
       " ['Харпер Ли'],\n",
       " ['Эрих Ремарк'],\n",
       " ['Лия Арден'],\n",
       " ['Аннетт Мари'],\n",
       " ['Холли Блэк'],\n",
       " ['Мадлен Миллер'],\n",
       " ['Ли Бардуго'],\n",
       " ['Керри Манискалко'],\n",
       " ['Элис Хоффман'],\n",
       " ['Стефани Гарбер'],\n",
       " ['Кристина Старк'],\n",
       " ['Лия Арден'],\n",
       " ['Мара Вульф'],\n",
       " ['Стивен Кинг'],\n",
       " ['Евгений Замятин'],\n",
       " ['Энтони Бёрджесс'],\n",
       " ['Редгрейн Лебовски'],\n",
       " ['Уильям Голдинг'],\n",
       " ['Скарлетт Сент-Клэр'],\n",
       " ['Фрэнсис Фицджеральд'],\n",
       " ['Донна Тартт'],\n",
       " ['Анна Джейн'],\n",
       " ['Олдос Хаксли'],\n",
       " ['Марисса Мейер']]"
      ]
     },
     "execution_count": 27,
     "metadata": {},
     "output_type": "execute_result"
    }
   ],
   "source": [
    "authors"
   ]
  },
  {
   "cell_type": "code",
   "execution_count": 40,
   "id": "2a31107c",
   "metadata": {},
   "outputs": [],
   "source": [
    "def get_book_names(soup):\n",
    "    books = soup.find_all('a', {'class':'product-card__name smartLink'})\n",
    "    books = [b.get_text().strip() for b in books]\n",
    "    return books"
   ]
  },
  {
   "cell_type": "code",
   "execution_count": 80,
   "id": "d04d2812",
   "metadata": {},
   "outputs": [],
   "source": [
    "def get_book_urls(soup):\n",
    "    urls = []\n",
    "    hrefs = soup.find_all('a', {'class':'product-card__image-link smartLink'})\n",
    "    for href in hrefs:\n",
    "        urls.append('https://book24.ru'+href['href'])\n",
    "    return urls"
   ]
  },
  {
   "cell_type": "code",
   "execution_count": 81,
   "id": "8b0ceb56",
   "metadata": {},
   "outputs": [],
   "source": [
    "# link = 'https://book24.ru/novie-knigi/'\n",
    "books = []\n",
    "authors = []\n",
    "book_urls = []\n",
    "for link in links:\n",
    "    result = requests.get(link)\n",
    "    html = result.text\n",
    "    soup = BeautifulSoup(html,'html.parser')\n",
    "    info = soup.find_all('div', {'class':'product-card__content'})\n",
    "    book_urls.extend(get_book_urls(soup))\n",
    "    authors.extend(get_authors(info))\n",
    "    books.extend(get_book_names(soup))"
   ]
  },
  {
   "cell_type": "code",
   "execution_count": 42,
   "id": "083b8027",
   "metadata": {},
   "outputs": [
    {
     "data": {
      "text/plain": [
       "90"
      ]
     },
     "execution_count": 42,
     "metadata": {},
     "output_type": "execute_result"
    }
   ],
   "source": [
    "len(authors)"
   ]
  },
  {
   "cell_type": "code",
   "execution_count": 43,
   "id": "4330d7cf",
   "metadata": {},
   "outputs": [
    {
     "data": {
      "text/plain": [
       "90"
      ]
     },
     "execution_count": 43,
     "metadata": {},
     "output_type": "execute_result"
    }
   ],
   "source": [
    "len(books)"
   ]
  },
  {
   "cell_type": "code",
   "execution_count": 82,
   "id": "526d4bef",
   "metadata": {},
   "outputs": [
    {
     "data": {
      "text/plain": [
       "['https://book24.ru/product/billi-sammers-6112249/',\n",
       " 'https://book24.ru/product/archer-budet-molchat-5401079/',\n",
       " 'https://book24.ru/product/kosti-i-zvezdnaya-pyl-5960605/',\n",
       " 'https://book24.ru/product/slomlennyy-prints-1978304/',\n",
       " 'https://book24.ru/product/dzheyn-eyr-207987/',\n",
       " 'https://book24.ru/product/bessmertnyy-ogon-5428404/',\n",
       " 'https://book24.ru/product/ubit-peresmeshnika-1792505/',\n",
       " 'https://book24.ru/product/triumfalnaya-arka-1638121/',\n",
       " 'https://book24.ru/product/mara-i-morok-5920467/',\n",
       " 'https://book24.ru/product/temnaya-burya-5400356/']"
      ]
     },
     "execution_count": 82,
     "metadata": {},
     "output_type": "execute_result"
    }
   ],
   "source": [
    "book_urls[:10]"
   ]
  },
  {
   "cell_type": "code",
   "execution_count": 62,
   "id": "cc5e673e",
   "metadata": {},
   "outputs": [
    {
     "name": "stdout",
     "output_type": "stream",
     "text": [
      "0 Виктория Авеярд\n",
      "1  Сергеева Валентина Сергеевна \n",
      "2 Young Adult. Мировой бестселлер Виктории Авеярд\n",
      "3 Фантастика и фэнтези для подростков\n",
      "4 Эксмо, Freedom\n",
      "5  978-5-04-103445-0 \n",
      "6  16+ \n",
      "7  2021 \n",
      "8  544 \n",
      "9  Твердый (7БЦ) \n",
      "10  Офсетная \n",
      "11  133x207  мм \n",
      "12  0.54  кг \n"
     ]
    }
   ],
   "source": [
    "for n, i in enumerate(info1):\n",
    "    print(n, i.get_text())"
   ]
  },
  {
   "cell_type": "code",
   "execution_count": 97,
   "id": "d3ee02c7",
   "metadata": {},
   "outputs": [],
   "source": [
    "publishers = ['Эксмо, Freedom', 'АСТ', 'Like Book', 'Эксмо, Inspiria', 'Эксмо']"
   ]
  },
  {
   "cell_type": "code",
   "execution_count": 104,
   "id": "be4bef3d",
   "metadata": {},
   "outputs": [],
   "source": [
    "def get_book_info(book_link):\n",
    "    book_info = {}\n",
    "    result = requests.get(book_link)\n",
    "    html = result.text\n",
    "    soup = BeautifulSoup(html,'html.parser')\n",
    "    info1 = soup.find_all('div', {'class':'product-characteristic__value'})\n",
    "    for n, i in enumerate(info1):\n",
    "        if n == 0:\n",
    "            if len(i.get_text().split(',')) > 1:\n",
    "                book_info['author'] = i.get_text().split(',')\n",
    "            else:\n",
    "                book_info['author'] = i.get_text()\n",
    "        elif n == 3:\n",
    "            if i.get_text() in publishers:\n",
    "                book_info['genre'] = info1[2].get_text()\n",
    "            else:\n",
    "                book_info['genre'] = i.get_text()\n",
    "        elif n == 7:\n",
    "            if len(i.get_text().strip()) != 4:\n",
    "                book_info['pub_year'] = info1[6].get_text().strip()\n",
    "            else:\n",
    "                book_info['pub_year'] = i.get_text().strip()\n",
    "        \n",
    "            \n",
    "    return book_info"
   ]
  },
  {
   "cell_type": "code",
   "execution_count": 107,
   "id": "50c58407",
   "metadata": {},
   "outputs": [
    {
     "name": "stderr",
     "output_type": "stream",
     "text": [
      "100%|██████████████████████████████████████████████████████████████████████████████████| 90/90 [02:15<00:00,  1.50s/it]\n"
     ]
    }
   ],
   "source": [
    "books_dict = {}\n",
    "for book, url in tqdm(list(zip(books, book_urls))):\n",
    "    books_dict[book] = get_book_info(url)"
   ]
  },
  {
   "cell_type": "code",
   "execution_count": 108,
   "id": "9ea440dc",
   "metadata": {
    "scrolled": true
   },
   "outputs": [
    {
     "data": {
      "text/plain": [
       "{'Билли Саммерс': {'author': 'Стивен Кинг',\n",
       "  'genre': 'Зарубежные детективы',\n",
       "  'pub_year': '2022'},\n",
       " 'Арчер будет молчать': {'author': 'Мия Шеридан',\n",
       "  'genre': 'Зарубежная сентиментальная проза',\n",
       "  'pub_year': '2019'},\n",
       " 'Кости и Звездная пыль': {'author': 'Редгрейн Лебовски',\n",
       "  'genre': 'Боевое фэнтези',\n",
       "  'pub_year': '2021'},\n",
       " 'Сломленный принц': {'author': 'Эрин Уатт',\n",
       "  'genre': 'Зарубежная сентиментальная проза',\n",
       "  'pub_year': '2022'},\n",
       " 'Джейн Эйр': {'author': 'Шарлотта Бронте',\n",
       "  'genre': 'Классическая зарубежная литература',\n",
       "  'pub_year': '2022'},\n",
       " 'Бессмертный огонь': {'author': 'Аннетт Мари',\n",
       "  'genre': 'Зарубежное фэнтези',\n",
       "  'pub_year': '2021'},\n",
       " 'Убить пересмешника…': {'author': 'Харпер Ли',\n",
       "  'genre': 'Классическая зарубежная литература',\n",
       "  'pub_year': '2022'},\n",
       " 'Триумфальная арка': {'author': 'Эрих Ремарк',\n",
       "  'genre': 'Классическая зарубежная литература',\n",
       "  'pub_year': '2021'},\n",
       " 'Мара и Морок': {'author': 'Лия Арден',\n",
       "  'genre': 'Любовное фэнтези',\n",
       "  'pub_year': '2021'},\n",
       " 'Темная буря': {'author': 'Аннетт Мари',\n",
       "  'genre': 'Зарубежное фэнтези',\n",
       "  'pub_year': '2021'},\n",
       " 'Воздушный народ. Королева ничего': {'author': 'Холли Блэк',\n",
       "  'genre': 'Фантастика и фэнтези для подростков',\n",
       "  'pub_year': '2022'},\n",
       " 'Цирцея': {'author': 'Мадлен Миллер',\n",
       "  'genre': 'Современная зарубежная проза',\n",
       "  'pub_year': '2021'},\n",
       " 'Язык шипов. Полуночные сказки и темное волшебство': {'author': 'Ли Бардуго',\n",
       "  'genre': 'Зарубежное фэнтези',\n",
       "  'pub_year': '2021'},\n",
       " 'Охота на Джека-потрошителя. Охота на князя Дракулу': {'author': 'Керри Манискалко',\n",
       "  'genre': 'Зарубежные детективы',\n",
       "  'pub_year': '2021'},\n",
       " 'Красный сад': {'author': 'Элис Хоффман',\n",
       "  'genre': 'Зарубежное фэнтези',\n",
       "  'pub_year': '2019'},\n",
       " 'Легендо': {'author': 'Стефани Гарбер',\n",
       "  'genre': 'Фантастика и фэнтези для подростков',\n",
       "  'pub_year': '2022'},\n",
       " 'Крылья': {'author': 'Кристина Старк',\n",
       "  'genre': 'Современная русская проза',\n",
       "  'pub_year': '2021'},\n",
       " 'Мара и Морок. Особенная Тень': {'author': 'Лия Арден',\n",
       "  'genre': 'Любовное фэнтези',\n",
       "  'pub_year': '2021'},\n",
       " 'Ангельская сага. Гнев ангелов': {'author': 'Мара Вульф',\n",
       "  'genre': 'Фантастика и фэнтези для подростков',\n",
       "  'pub_year': '2022'},\n",
       " 'Клатбище домашних жывотных': {'author': 'Стивен Кинг',\n",
       "  'genre': 'Ужасы. Мистика',\n",
       "  'pub_year': '2021'},\n",
       " 'Мы': {'author': 'Евгений Замятин',\n",
       "  'genre': 'Классическая русская литература',\n",
       "  'pub_year': '2021'},\n",
       " 'Заводной апельсин': {'author': 'Энтони Бёрджесс',\n",
       "  'genre': 'Антиутопия',\n",
       "  'pub_year': '2021'},\n",
       " 'Сталь и солнечный шторм': {'author': 'Редгрейн Лебовски',\n",
       "  'genre': 'Фантастика и фэнтези для подростков',\n",
       "  'pub_year': '2021'},\n",
       " 'Повелитель мух': {'author': 'Уильям Голдинг',\n",
       "  'genre': 'Классическая зарубежная литература',\n",
       "  'pub_year': '2021'},\n",
       " 'Прикосновение тьмы': {'author': 'Скарлетт Сент-Клэр',\n",
       "  'genre': 'Любовное фэнтези',\n",
       "  'pub_year': '2022'},\n",
       " 'Великий Гэтсби': {'author': 'Фрэнсис Фицджеральд',\n",
       "  'genre': 'Классическая зарубежная литература',\n",
       "  'pub_year': '2022'},\n",
       " 'Щегол': {'author': 'Донна Тартт',\n",
       "  'genre': 'Современная зарубежная проза',\n",
       "  'pub_year': '2021'},\n",
       " 'Небесная музыка. Солнце': {'author': 'Анна Джейн',\n",
       "  'genre': 'Русская сентиментальная проза',\n",
       "  'pub_year': '2022'},\n",
       " 'О дивный новый мир': {'author': 'Олдос Хаксли',\n",
       "  'genre': 'Антиутопия',\n",
       "  'pub_year': '2021'},\n",
       " 'Белоснежка': {'author': 'Марисса Мейер',\n",
       "  'genre': 'Космическая фантастика',\n",
       "  'pub_year': '2021'},\n",
       " 'Алые и серебряные. Алая королева': {'author': 'Виктория Авеярд',\n",
       "  'genre': 'Фантастика и фэнтези для подростков',\n",
       "  'pub_year': '2021'},\n",
       " 'Как ты умрешь': {'author': 'Майк Омер',\n",
       "  'genre': 'Триллеры',\n",
       "  'pub_year': '2022'},\n",
       " 'Белая кошка': {'author': 'Холли Блэк',\n",
       "  'genre': 'Зарубежное фэнтези',\n",
       "  'pub_year': '2022'},\n",
       " 'Дочь для волка': {'author': 'Ханна Уиттен',\n",
       "  'genre': 'Героическое фэнтези',\n",
       "  'pub_year': '2022'},\n",
       " 'Тайная опора: привязанность в жизни ребенка': {'author': 'Людмила Петрановская',\n",
       "  'genre': 'Воспитание детей',\n",
       "  'pub_year': '2021'},\n",
       " 'Пикник на обочине': {'author': ['Аркадий Стругацкий', ' Борис Стругацкий'],\n",
       "  'genre': 'Научная фантастика',\n",
       "  'pub_year': '2021'},\n",
       " 'Маленькая жизнь': {'author': 'Ханья Янагихара',\n",
       "  'genre': 'Современная зарубежная проза',\n",
       "  'pub_year': '2021'},\n",
       " 'Это же любовь! Книга, которая помогает семьям': {'author': 'Дмитриева Вика Дмитриевна',\n",
       "  'genre': 'Популярная психология',\n",
       "  'pub_year': '2021'},\n",
       " 'Под небом Парижа': {'author': 'Дана Делон',\n",
       "  'genre': 'Русская сентиментальная проза',\n",
       "  'pub_year': '2021'},\n",
       " 'Ужасы Фазбера. В бассейн! (выпуск 1)': {'author': ['Скотт Коутон',\n",
       "   ' Элли Купер'],\n",
       "  'genre': 'Ужасы для подростков',\n",
       "  'pub_year': '2022'},\n",
       " 'Мгновенная карма': {'author': 'Марисса Мейер',\n",
       "  'genre': 'Зарубежное фэнтези',\n",
       "  'pub_year': '2021'},\n",
       " 'Снова почувствуй': {'author': 'Мона Кастен',\n",
       "  'genre': 'Зарубежная сентиментальная проза',\n",
       "  'pub_year': '2022'},\n",
       " 'Стеклянный меч #2': {'author': 'Виктория Авеярд',\n",
       "  'genre': 'Фантастика и фэнтези для подростков',\n",
       "  'pub_year': '2021'},\n",
       " 'Алые и серебряные. Клетка короля': {'author': 'Виктория Авеярд',\n",
       "  'genre': 'Фантастика и фэнтези для подростков',\n",
       "  'pub_year': '2021'},\n",
       " 'Рапунцель': {'author': 'Марисса Мейер',\n",
       "  'genre': 'Киберпанк',\n",
       "  'pub_year': '2021'},\n",
       " 'Отвергнутый наследник': {'author': 'Эрин Уатт',\n",
       "  'genre': 'Зарубежная сентиментальная проза',\n",
       "  'pub_year': '2022'},\n",
       " 'Алая зима': {'author': 'Аннетт Мари',\n",
       "  'genre': 'Зарубежное фэнтези',\n",
       "  'pub_year': '2022'},\n",
       " '11/22/63': {'author': 'Стивен Кинг',\n",
       "  'genre': 'Зарубежная фантастика',\n",
       "  'pub_year': '2021'},\n",
       " 'Ночь в Лиссабоне': {'author': 'Эрих Ремарк',\n",
       "  'genre': 'Классическая зарубежная литература',\n",
       "  'pub_year': '2021'},\n",
       " 'Королевство теней. Тени между нами': {'author': 'Триша Левенселлер',\n",
       "  'genre': 'Фантастика и фэнтези для подростков',\n",
       "  'pub_year': '2022'},\n",
       " 'Незнакомка из Уайлдфелл-Холла': {'author': 'Энн Бронте',\n",
       "  'genre': 'Классическая зарубежная литература',\n",
       "  'pub_year': '2022'},\n",
       " 'Запятнанная корона': {'author': 'Эрин Уатт',\n",
       "  'genre': 'Зарубежная сентиментальная проза',\n",
       "  'pub_year': '2021'},\n",
       " 'Хрупкое равновесие. Книга 1': {'author': 'Ана Шерри',\n",
       "  'genre': 'Русская сентиментальная проза',\n",
       "  'pub_year': '2021'},\n",
       " 'Мара и Морок. 500 лет назад': {'author': 'Лия Арден',\n",
       "  'genre': 'Любовное фэнтези',\n",
       "  'pub_year': '2021'},\n",
       " 'Играя с огнем': {'author': 'Л. Дж. Шэн',\n",
       "  'genre': 'Зарубежная сентиментальная проза',\n",
       "  'pub_year': '2022'},\n",
       " 'Разрушенный дворец': {'author': 'Эрин Уатт',\n",
       "  'genre': 'Зарубежная сентиментальная проза',\n",
       "  'pub_year': '2021'},\n",
       " 'Отель с привидениями': {'author': 'Уилки Коллинз',\n",
       "  'genre': 'Зарубежные детективы',\n",
       "  'pub_year': '2021'},\n",
       " 'Мадам': {'author': 'Александр Бессонов',\n",
       "  'genre': 'Современная русская проза',\n",
       "  'pub_year': '2022'},\n",
       " 'Тайная история': {'author': 'Донна Тартт',\n",
       "  'genre': 'Современная зарубежная проза',\n",
       "  'pub_year': '2022'},\n",
       " 'Дракула': {'author': 'Брэм Стокер',\n",
       "  'genre': 'Классическая зарубежная литература',\n",
       "  'pub_year': '2021'},\n",
       " 'Это слово – Убийство': {'author': 'Энтони Горовиц',\n",
       "  'genre': 'Зарубежные детективы',\n",
       "  'pub_year': '2018'},\n",
       " 'Практическая политология. Пособие по контакту с реальностью': {'author': 'Екатерина Шульман',\n",
       "  'genre': 'Современная политика',\n",
       "  'pub_year': '2022'},\n",
       " 'Хорошая дочь': {'author': 'Карин Слотер',\n",
       "  'genre': 'Зарубежные детективы',\n",
       "  'pub_year': '2022'},\n",
       " 'Шифр': {'author': 'Изабелла Мальдонадо',\n",
       "  'genre': 'Зарубежные детективы',\n",
       "  'pub_year': '2022'},\n",
       " 'Хорошие жены': {'author': 'Луиза Мэй Олкотт',\n",
       "  'genre': 'Классическая зарубежная литература',\n",
       "  'pub_year': '2022'},\n",
       " 'Мизери': {'author': 'Стивен Кинг',\n",
       "  'genre': 'Ужасы. Мистика',\n",
       "  'pub_year': '2021'},\n",
       " 'Вниз по кроличьей норе': {'author': 'Марк Биллингхэм',\n",
       "  'genre': 'Триллеры',\n",
       "  'pub_year': '2022'},\n",
       " 'Долгая Прогулка': {'author': 'Стивен Кинг',\n",
       "  'genre': 'Ужасы. Мистика',\n",
       "  'pub_year': '2022'},\n",
       " 'Ход королевы': {'author': 'Уолтер Тевис',\n",
       "  'genre': 'Классическая зарубежная литература',\n",
       "  'pub_year': '2022'},\n",
       " 'Школа Всех Святых. Жестокий бог': {'author': 'Л. Дж. Шэн',\n",
       "  'genre': 'Зарубежная сентиментальная проза',\n",
       "  'pub_year': '2022'},\n",
       " 'Code. Носители': {'author': 'Джон Маррс',\n",
       "  'genre': 'Триллеры',\n",
       "  'pub_year': '2022'},\n",
       " 'Объявлено убийство': {'author': 'Агата Кристи',\n",
       "  'genre': 'Классические детективы',\n",
       "  'pub_year': '2018'},\n",
       " 'Маленькая злая книга': {'author': 'Магнус Мист',\n",
       "  'genre': 'Фантастика и фэнтези',\n",
       "  'pub_year': '2022'},\n",
       " 'Золушка': {'author': 'Марисса Мейер',\n",
       "  'genre': 'Киберпанк',\n",
       "  'pub_year': '2021'},\n",
       " 'Агрессор': {'author': 'Пенелопа Дуглас',\n",
       "  'genre': 'Зарубежные любовные романы',\n",
       "  'pub_year': '2022'},\n",
       " 'Караваль': {'author': 'Стефани Гарбер',\n",
       "  'genre': 'Зарубежное фэнтези',\n",
       "  'pub_year': '2022'},\n",
       " 'Иллюзия. Иллюзия 2': {'author': 'Сергей Тармашев',\n",
       "  'genre': 'Боевая фантастика',\n",
       "  'pub_year': '2022'},\n",
       " 'Трудно быть богом': {'author': ['Аркадий Стругацкий', ' Борис Стругацкий'],\n",
       "  'genre': 'Боевая фантастика',\n",
       "  'pub_year': '2022'},\n",
       " 'Вороновый круг. Синяя лилия, лилия Блу': {'author': 'Мэгги Стивотер',\n",
       "  'genre': 'Фантастика и фэнтези для подростков',\n",
       "  'pub_year': '2021'},\n",
       " 'Двор Тьмы': {'author': 'Виктор Диксен',\n",
       "  'genre': 'Зарубежное фэнтези',\n",
       "  'pub_year': '2022'},\n",
       " 'Не дружи со мной': {'author': 'Ася Лавринович',\n",
       "  'genre': 'Русская сентиментальная проза',\n",
       "  'pub_year': '2022'},\n",
       " 'Мода и кино. Как фильмы формируют тренды': {'author': ' Анна Баштовая ',\n",
       "  'genre': 'Кино',\n",
       "  'pub_year': '2022'},\n",
       " 'Иметь или быть?': {'author': 'Эрих Фромм',\n",
       "  'genre': 'Классическая психология',\n",
       "  'pub_year': '2022'},\n",
       " 'Кристина': {'author': 'Стивен Кинг',\n",
       "  'genre': 'Зарубежные детективы',\n",
       "  'pub_year': '2021'},\n",
       " 'Незримая жизнь Адди Ларю': {'author': 'Виктория Шваб',\n",
       "  'genre': 'Зарубежное фэнтези',\n",
       "  'pub_year': '2022'},\n",
       " 'Проект \"Аве Мария\"': {'author': 'Энди Вейер',\n",
       "  'genre': 'Зарубежная фантастика',\n",
       "  'pub_year': '2021'},\n",
       " 'Бессердечный принц': {'author': 'Эшли Джейд',\n",
       "  'genre': 'Зарубежная сентиментальная проза',\n",
       "  'pub_year': '2022'},\n",
       " 'За стенкой. История Отиса Ревиаля': {'author': 'Габриэль Коста',\n",
       "  'genre': 'Современная русская проза',\n",
       "  'pub_year': '2022'},\n",
       " 'Среди тысячи слов': {'author': 'Эмма Скотт',\n",
       "  'genre': 'Романтические книги для подростков',\n",
       "  'pub_year': '2022'},\n",
       " 'Побег от Гудини. Охота на дьявола': {'author': 'Керри Манискалко',\n",
       "  'genre': 'Зарубежные детективы',\n",
       "  'pub_year': '2021'}}"
      ]
     },
     "execution_count": 108,
     "metadata": {},
     "output_type": "execute_result"
    }
   ],
   "source": [
    "books_dict"
   ]
  },
  {
   "cell_type": "code",
   "execution_count": 113,
   "id": "dcadcfb6",
   "metadata": {},
   "outputs": [],
   "source": [
    "with open(\"books_info.json\", \"w\", encoding='utf-8') as outfile:\n",
    "    json.dump(books_dict, outfile, ensure_ascii=False)"
   ]
  },
  {
   "cell_type": "code",
   "execution_count": 114,
   "id": "54bc6995",
   "metadata": {},
   "outputs": [],
   "source": [
    "genres = []\n",
    "for book in books_dict.keys():\n",
    "    genres.append(books_dict[book]['genre'])"
   ]
  },
  {
   "cell_type": "code",
   "execution_count": 116,
   "id": "ff626716",
   "metadata": {
    "scrolled": true
   },
   "outputs": [
    {
     "data": {
      "text/plain": [
       "['Зарубежные детективы',\n",
       " 'Зарубежная сентиментальная проза',\n",
       " 'Боевое фэнтези',\n",
       " 'Зарубежная сентиментальная проза',\n",
       " 'Классическая зарубежная литература',\n",
       " 'Зарубежное фэнтези',\n",
       " 'Классическая зарубежная литература',\n",
       " 'Классическая зарубежная литература',\n",
       " 'Любовное фэнтези',\n",
       " 'Зарубежное фэнтези',\n",
       " 'Фантастика и фэнтези для подростков',\n",
       " 'Современная зарубежная проза',\n",
       " 'Зарубежное фэнтези',\n",
       " 'Зарубежные детективы',\n",
       " 'Зарубежное фэнтези',\n",
       " 'Фантастика и фэнтези для подростков',\n",
       " 'Современная русская проза',\n",
       " 'Любовное фэнтези',\n",
       " 'Фантастика и фэнтези для подростков',\n",
       " 'Ужасы. Мистика',\n",
       " 'Классическая русская литература',\n",
       " 'Антиутопия',\n",
       " 'Фантастика и фэнтези для подростков',\n",
       " 'Классическая зарубежная литература',\n",
       " 'Любовное фэнтези',\n",
       " 'Классическая зарубежная литература',\n",
       " 'Современная зарубежная проза',\n",
       " 'Русская сентиментальная проза',\n",
       " 'Антиутопия',\n",
       " 'Космическая фантастика',\n",
       " 'Фантастика и фэнтези для подростков',\n",
       " 'Триллеры',\n",
       " 'Зарубежное фэнтези',\n",
       " 'Героическое фэнтези',\n",
       " 'Воспитание детей',\n",
       " 'Научная фантастика',\n",
       " 'Современная зарубежная проза',\n",
       " 'Популярная психология',\n",
       " 'Русская сентиментальная проза',\n",
       " 'Ужасы для подростков',\n",
       " 'Зарубежное фэнтези',\n",
       " 'Зарубежная сентиментальная проза',\n",
       " 'Фантастика и фэнтези для подростков',\n",
       " 'Фантастика и фэнтези для подростков',\n",
       " 'Киберпанк',\n",
       " 'Зарубежная сентиментальная проза',\n",
       " 'Зарубежное фэнтези',\n",
       " 'Зарубежная фантастика',\n",
       " 'Классическая зарубежная литература',\n",
       " 'Фантастика и фэнтези для подростков',\n",
       " 'Классическая зарубежная литература',\n",
       " 'Зарубежная сентиментальная проза',\n",
       " 'Русская сентиментальная проза',\n",
       " 'Любовное фэнтези',\n",
       " 'Зарубежная сентиментальная проза',\n",
       " 'Зарубежная сентиментальная проза',\n",
       " 'Зарубежные детективы',\n",
       " 'Современная русская проза',\n",
       " 'Современная зарубежная проза',\n",
       " 'Классическая зарубежная литература',\n",
       " 'Зарубежные детективы',\n",
       " 'Современная политика',\n",
       " 'Зарубежные детективы',\n",
       " 'Зарубежные детективы',\n",
       " 'Классическая зарубежная литература',\n",
       " 'Ужасы. Мистика',\n",
       " 'Триллеры',\n",
       " 'Ужасы. Мистика',\n",
       " 'Классическая зарубежная литература',\n",
       " 'Зарубежная сентиментальная проза',\n",
       " 'Триллеры',\n",
       " 'Классические детективы',\n",
       " 'Фантастика и фэнтези',\n",
       " 'Киберпанк',\n",
       " 'Зарубежные любовные романы',\n",
       " 'Зарубежное фэнтези',\n",
       " 'Боевая фантастика',\n",
       " 'Боевая фантастика',\n",
       " 'Фантастика и фэнтези для подростков',\n",
       " 'Зарубежное фэнтези',\n",
       " 'Русская сентиментальная проза',\n",
       " 'Кино',\n",
       " 'Классическая психология',\n",
       " 'Зарубежные детективы',\n",
       " 'Зарубежное фэнтези',\n",
       " 'Зарубежная фантастика',\n",
       " 'Зарубежная сентиментальная проза',\n",
       " 'Современная русская проза',\n",
       " 'Романтические книги для подростков',\n",
       " 'Зарубежные детективы']"
      ]
     },
     "execution_count": 116,
     "metadata": {},
     "output_type": "execute_result"
    }
   ],
   "source": [
    "genres"
   ]
  },
  {
   "cell_type": "code",
   "execution_count": 117,
   "id": "fb1e48c9",
   "metadata": {},
   "outputs": [],
   "source": [
    "interests = ['Детективы', 'Фэнтези', 'Русская литература',\n",
    "             'Зарубежная литература', 'Фантастика', 'Психология',\n",
    "             'Политика', 'Ужасы', 'Романы', 'Кино']"
   ]
  },
  {
   "cell_type": "code",
   "execution_count": 118,
   "id": "d9cbc10c",
   "metadata": {},
   "outputs": [],
   "source": [
    "with open(\"interests.txt\", \"w\", encoding='utf-8') as f:\n",
    "    f.write('\\n'.join(interests))"
   ]
  }
 ],
 "metadata": {
  "kernelspec": {
   "display_name": "Python 3 (ipykernel)",
   "language": "python",
   "name": "python3"
  },
  "language_info": {
   "codemirror_mode": {
    "name": "ipython",
    "version": 3
   },
   "file_extension": ".py",
   "mimetype": "text/x-python",
   "name": "python",
   "nbconvert_exporter": "python",
   "pygments_lexer": "ipython3",
   "version": "3.10.1"
  }
 },
 "nbformat": 4,
 "nbformat_minor": 5
}
